{
 "cells": [
  {
   "cell_type": "code",
   "execution_count": 1,
   "metadata": {},
   "outputs": [
    {
     "data": {
      "text/html": [
       "<div>\n",
       "<style scoped>\n",
       "    .dataframe tbody tr th:only-of-type {\n",
       "        vertical-align: middle;\n",
       "    }\n",
       "\n",
       "    .dataframe tbody tr th {\n",
       "        vertical-align: top;\n",
       "    }\n",
       "\n",
       "    .dataframe thead th {\n",
       "        text-align: right;\n",
       "    }\n",
       "</style>\n",
       "<table border=\"1\" class=\"dataframe\">\n",
       "  <thead>\n",
       "    <tr style=\"text-align: right;\">\n",
       "      <th></th>\n",
       "      <th>Employee_ID</th>\n",
       "      <th>Age</th>\n",
       "      <th>Gender</th>\n",
       "      <th>Department</th>\n",
       "      <th>Job_Title</th>\n",
       "      <th>Years_at_Company</th>\n",
       "      <th>Satisfaction_Level</th>\n",
       "      <th>Average_Monthly_Hours</th>\n",
       "      <th>Promotion_Last_5Years</th>\n",
       "      <th>Salary</th>\n",
       "      <th>Attrition</th>\n",
       "    </tr>\n",
       "  </thead>\n",
       "  <tbody>\n",
       "    <tr>\n",
       "      <th>0</th>\n",
       "      <td>0</td>\n",
       "      <td>27</td>\n",
       "      <td>Male</td>\n",
       "      <td>Marketing</td>\n",
       "      <td>Manager</td>\n",
       "      <td>9</td>\n",
       "      <td>0.586251</td>\n",
       "      <td>151</td>\n",
       "      <td>0</td>\n",
       "      <td>60132</td>\n",
       "      <td>0</td>\n",
       "    </tr>\n",
       "    <tr>\n",
       "      <th>1</th>\n",
       "      <td>1</td>\n",
       "      <td>53</td>\n",
       "      <td>Female</td>\n",
       "      <td>Sales</td>\n",
       "      <td>Engineer</td>\n",
       "      <td>10</td>\n",
       "      <td>0.261161</td>\n",
       "      <td>221</td>\n",
       "      <td>1</td>\n",
       "      <td>79947</td>\n",
       "      <td>0</td>\n",
       "    </tr>\n",
       "    <tr>\n",
       "      <th>2</th>\n",
       "      <td>2</td>\n",
       "      <td>59</td>\n",
       "      <td>Female</td>\n",
       "      <td>Marketing</td>\n",
       "      <td>Analyst</td>\n",
       "      <td>8</td>\n",
       "      <td>0.304382</td>\n",
       "      <td>184</td>\n",
       "      <td>0</td>\n",
       "      <td>46958</td>\n",
       "      <td>1</td>\n",
       "    </tr>\n",
       "    <tr>\n",
       "      <th>3</th>\n",
       "      <td>3</td>\n",
       "      <td>42</td>\n",
       "      <td>Female</td>\n",
       "      <td>Engineering</td>\n",
       "      <td>Manager</td>\n",
       "      <td>1</td>\n",
       "      <td>0.480779</td>\n",
       "      <td>242</td>\n",
       "      <td>0</td>\n",
       "      <td>40662</td>\n",
       "      <td>0</td>\n",
       "    </tr>\n",
       "    <tr>\n",
       "      <th>4</th>\n",
       "      <td>4</td>\n",
       "      <td>44</td>\n",
       "      <td>Female</td>\n",
       "      <td>Sales</td>\n",
       "      <td>Engineer</td>\n",
       "      <td>10</td>\n",
       "      <td>0.636244</td>\n",
       "      <td>229</td>\n",
       "      <td>1</td>\n",
       "      <td>74307</td>\n",
       "      <td>0</td>\n",
       "    </tr>\n",
       "  </tbody>\n",
       "</table>\n",
       "</div>"
      ],
      "text/plain": [
       "   Employee_ID  Age  Gender   Department Job_Title  Years_at_Company  \\\n",
       "0            0   27    Male    Marketing   Manager                 9   \n",
       "1            1   53  Female        Sales  Engineer                10   \n",
       "2            2   59  Female    Marketing   Analyst                 8   \n",
       "3            3   42  Female  Engineering   Manager                 1   \n",
       "4            4   44  Female        Sales  Engineer                10   \n",
       "\n",
       "   Satisfaction_Level  Average_Monthly_Hours  Promotion_Last_5Years  Salary  \\\n",
       "0            0.586251                    151                      0   60132   \n",
       "1            0.261161                    221                      1   79947   \n",
       "2            0.304382                    184                      0   46958   \n",
       "3            0.480779                    242                      0   40662   \n",
       "4            0.636244                    229                      1   74307   \n",
       "\n",
       "   Attrition  \n",
       "0          0  \n",
       "1          0  \n",
       "2          1  \n",
       "3          0  \n",
       "4          0  "
      ]
     },
     "execution_count": 1,
     "metadata": {},
     "output_type": "execute_result"
    }
   ],
   "source": [
    "import pandas as pd\n",
    "\n",
    "data = pd.read_csv('employee_attrition_data.csv')\n",
    "data.head()\n"
   ]
  },
  {
   "cell_type": "code",
   "execution_count": 2,
   "metadata": {},
   "outputs": [
    {
     "name": "stdout",
     "output_type": "stream",
     "text": [
      "<class 'pandas.core.frame.DataFrame'>\n",
      "RangeIndex: 1000 entries, 0 to 999\n",
      "Data columns (total 11 columns):\n",
      " #   Column                 Non-Null Count  Dtype  \n",
      "---  ------                 --------------  -----  \n",
      " 0   Employee_ID            1000 non-null   int64  \n",
      " 1   Age                    1000 non-null   int64  \n",
      " 2   Gender                 1000 non-null   object \n",
      " 3   Department             1000 non-null   object \n",
      " 4   Job_Title              1000 non-null   object \n",
      " 5   Years_at_Company       1000 non-null   int64  \n",
      " 6   Satisfaction_Level     1000 non-null   float64\n",
      " 7   Average_Monthly_Hours  1000 non-null   int64  \n",
      " 8   Promotion_Last_5Years  1000 non-null   int64  \n",
      " 9   Salary                 1000 non-null   int64  \n",
      " 10  Attrition              1000 non-null   int64  \n",
      "dtypes: float64(1), int64(7), object(3)\n",
      "memory usage: 86.1+ KB\n"
     ]
    }
   ],
   "source": [
    "data.info()"
   ]
  },
  {
   "cell_type": "code",
   "execution_count": 3,
   "metadata": {},
   "outputs": [
    {
     "data": {
      "text/html": [
       "<div>\n",
       "<style scoped>\n",
       "    .dataframe tbody tr th:only-of-type {\n",
       "        vertical-align: middle;\n",
       "    }\n",
       "\n",
       "    .dataframe tbody tr th {\n",
       "        vertical-align: top;\n",
       "    }\n",
       "\n",
       "    .dataframe thead th {\n",
       "        text-align: right;\n",
       "    }\n",
       "</style>\n",
       "<table border=\"1\" class=\"dataframe\">\n",
       "  <thead>\n",
       "    <tr style=\"text-align: right;\">\n",
       "      <th></th>\n",
       "      <th>Employee_ID</th>\n",
       "      <th>Age</th>\n",
       "      <th>Gender</th>\n",
       "      <th>Department</th>\n",
       "      <th>Job_Title</th>\n",
       "      <th>Years_at_Company</th>\n",
       "      <th>Satisfaction_Level</th>\n",
       "      <th>Average_Monthly_Hours</th>\n",
       "      <th>Promotion_Last_5Years</th>\n",
       "      <th>Salary</th>\n",
       "      <th>Attrition</th>\n",
       "    </tr>\n",
       "  </thead>\n",
       "  <tbody>\n",
       "    <tr>\n",
       "      <th>0</th>\n",
       "      <td>False</td>\n",
       "      <td>False</td>\n",
       "      <td>False</td>\n",
       "      <td>False</td>\n",
       "      <td>False</td>\n",
       "      <td>False</td>\n",
       "      <td>False</td>\n",
       "      <td>False</td>\n",
       "      <td>False</td>\n",
       "      <td>False</td>\n",
       "      <td>False</td>\n",
       "    </tr>\n",
       "    <tr>\n",
       "      <th>1</th>\n",
       "      <td>False</td>\n",
       "      <td>False</td>\n",
       "      <td>False</td>\n",
       "      <td>False</td>\n",
       "      <td>False</td>\n",
       "      <td>False</td>\n",
       "      <td>False</td>\n",
       "      <td>False</td>\n",
       "      <td>False</td>\n",
       "      <td>False</td>\n",
       "      <td>False</td>\n",
       "    </tr>\n",
       "    <tr>\n",
       "      <th>2</th>\n",
       "      <td>False</td>\n",
       "      <td>False</td>\n",
       "      <td>False</td>\n",
       "      <td>False</td>\n",
       "      <td>False</td>\n",
       "      <td>False</td>\n",
       "      <td>False</td>\n",
       "      <td>False</td>\n",
       "      <td>False</td>\n",
       "      <td>False</td>\n",
       "      <td>False</td>\n",
       "    </tr>\n",
       "    <tr>\n",
       "      <th>3</th>\n",
       "      <td>False</td>\n",
       "      <td>False</td>\n",
       "      <td>False</td>\n",
       "      <td>False</td>\n",
       "      <td>False</td>\n",
       "      <td>False</td>\n",
       "      <td>False</td>\n",
       "      <td>False</td>\n",
       "      <td>False</td>\n",
       "      <td>False</td>\n",
       "      <td>False</td>\n",
       "    </tr>\n",
       "    <tr>\n",
       "      <th>4</th>\n",
       "      <td>False</td>\n",
       "      <td>False</td>\n",
       "      <td>False</td>\n",
       "      <td>False</td>\n",
       "      <td>False</td>\n",
       "      <td>False</td>\n",
       "      <td>False</td>\n",
       "      <td>False</td>\n",
       "      <td>False</td>\n",
       "      <td>False</td>\n",
       "      <td>False</td>\n",
       "    </tr>\n",
       "    <tr>\n",
       "      <th>...</th>\n",
       "      <td>...</td>\n",
       "      <td>...</td>\n",
       "      <td>...</td>\n",
       "      <td>...</td>\n",
       "      <td>...</td>\n",
       "      <td>...</td>\n",
       "      <td>...</td>\n",
       "      <td>...</td>\n",
       "      <td>...</td>\n",
       "      <td>...</td>\n",
       "      <td>...</td>\n",
       "    </tr>\n",
       "    <tr>\n",
       "      <th>995</th>\n",
       "      <td>False</td>\n",
       "      <td>False</td>\n",
       "      <td>False</td>\n",
       "      <td>False</td>\n",
       "      <td>False</td>\n",
       "      <td>False</td>\n",
       "      <td>False</td>\n",
       "      <td>False</td>\n",
       "      <td>False</td>\n",
       "      <td>False</td>\n",
       "      <td>False</td>\n",
       "    </tr>\n",
       "    <tr>\n",
       "      <th>996</th>\n",
       "      <td>False</td>\n",
       "      <td>False</td>\n",
       "      <td>False</td>\n",
       "      <td>False</td>\n",
       "      <td>False</td>\n",
       "      <td>False</td>\n",
       "      <td>False</td>\n",
       "      <td>False</td>\n",
       "      <td>False</td>\n",
       "      <td>False</td>\n",
       "      <td>False</td>\n",
       "    </tr>\n",
       "    <tr>\n",
       "      <th>997</th>\n",
       "      <td>False</td>\n",
       "      <td>False</td>\n",
       "      <td>False</td>\n",
       "      <td>False</td>\n",
       "      <td>False</td>\n",
       "      <td>False</td>\n",
       "      <td>False</td>\n",
       "      <td>False</td>\n",
       "      <td>False</td>\n",
       "      <td>False</td>\n",
       "      <td>False</td>\n",
       "    </tr>\n",
       "    <tr>\n",
       "      <th>998</th>\n",
       "      <td>False</td>\n",
       "      <td>False</td>\n",
       "      <td>False</td>\n",
       "      <td>False</td>\n",
       "      <td>False</td>\n",
       "      <td>False</td>\n",
       "      <td>False</td>\n",
       "      <td>False</td>\n",
       "      <td>False</td>\n",
       "      <td>False</td>\n",
       "      <td>False</td>\n",
       "    </tr>\n",
       "    <tr>\n",
       "      <th>999</th>\n",
       "      <td>False</td>\n",
       "      <td>False</td>\n",
       "      <td>False</td>\n",
       "      <td>False</td>\n",
       "      <td>False</td>\n",
       "      <td>False</td>\n",
       "      <td>False</td>\n",
       "      <td>False</td>\n",
       "      <td>False</td>\n",
       "      <td>False</td>\n",
       "      <td>False</td>\n",
       "    </tr>\n",
       "  </tbody>\n",
       "</table>\n",
       "<p>1000 rows × 11 columns</p>\n",
       "</div>"
      ],
      "text/plain": [
       "     Employee_ID    Age  Gender  Department  Job_Title  Years_at_Company  \\\n",
       "0          False  False   False       False      False             False   \n",
       "1          False  False   False       False      False             False   \n",
       "2          False  False   False       False      False             False   \n",
       "3          False  False   False       False      False             False   \n",
       "4          False  False   False       False      False             False   \n",
       "..           ...    ...     ...         ...        ...               ...   \n",
       "995        False  False   False       False      False             False   \n",
       "996        False  False   False       False      False             False   \n",
       "997        False  False   False       False      False             False   \n",
       "998        False  False   False       False      False             False   \n",
       "999        False  False   False       False      False             False   \n",
       "\n",
       "     Satisfaction_Level  Average_Monthly_Hours  Promotion_Last_5Years  Salary  \\\n",
       "0                 False                  False                  False   False   \n",
       "1                 False                  False                  False   False   \n",
       "2                 False                  False                  False   False   \n",
       "3                 False                  False                  False   False   \n",
       "4                 False                  False                  False   False   \n",
       "..                  ...                    ...                    ...     ...   \n",
       "995               False                  False                  False   False   \n",
       "996               False                  False                  False   False   \n",
       "997               False                  False                  False   False   \n",
       "998               False                  False                  False   False   \n",
       "999               False                  False                  False   False   \n",
       "\n",
       "     Attrition  \n",
       "0        False  \n",
       "1        False  \n",
       "2        False  \n",
       "3        False  \n",
       "4        False  \n",
       "..         ...  \n",
       "995      False  \n",
       "996      False  \n",
       "997      False  \n",
       "998      False  \n",
       "999      False  \n",
       "\n",
       "[1000 rows x 11 columns]"
      ]
     },
     "execution_count": 3,
     "metadata": {},
     "output_type": "execute_result"
    }
   ],
   "source": [
    "data.isna()"
   ]
  },
  {
   "cell_type": "code",
   "execution_count": 4,
   "metadata": {},
   "outputs": [
    {
     "data": {
      "text/plain": [
       "Employee_ID              0\n",
       "Age                      0\n",
       "Gender                   0\n",
       "Department               0\n",
       "Job_Title                0\n",
       "Years_at_Company         0\n",
       "Satisfaction_Level       0\n",
       "Average_Monthly_Hours    0\n",
       "Promotion_Last_5Years    0\n",
       "Salary                   0\n",
       "Attrition                0\n",
       "dtype: int64"
      ]
     },
     "execution_count": 4,
     "metadata": {},
     "output_type": "execute_result"
    }
   ],
   "source": [
    "data.isna().sum()"
   ]
  },
  {
   "cell_type": "code",
   "execution_count": 5,
   "metadata": {},
   "outputs": [
    {
     "data": {
      "text/plain": [
       "0"
      ]
     },
     "execution_count": 5,
     "metadata": {},
     "output_type": "execute_result"
    }
   ],
   "source": [
    "data.duplicated().sum()"
   ]
  },
  {
   "cell_type": "code",
   "execution_count": 6,
   "metadata": {},
   "outputs": [
    {
     "data": {
      "text/html": [
       "<div>\n",
       "<style scoped>\n",
       "    .dataframe tbody tr th:only-of-type {\n",
       "        vertical-align: middle;\n",
       "    }\n",
       "\n",
       "    .dataframe tbody tr th {\n",
       "        vertical-align: top;\n",
       "    }\n",
       "\n",
       "    .dataframe thead th {\n",
       "        text-align: right;\n",
       "    }\n",
       "</style>\n",
       "<table border=\"1\" class=\"dataframe\">\n",
       "  <thead>\n",
       "    <tr style=\"text-align: right;\">\n",
       "      <th></th>\n",
       "      <th>Employee_ID</th>\n",
       "      <th>Age</th>\n",
       "      <th>Gender</th>\n",
       "      <th>Department</th>\n",
       "      <th>Job_Title</th>\n",
       "      <th>Years_at_Company</th>\n",
       "      <th>Satisfaction_Level</th>\n",
       "      <th>Average_Monthly_Hours</th>\n",
       "      <th>Promotion_Last_5Years</th>\n",
       "      <th>Salary</th>\n",
       "      <th>Attrition</th>\n",
       "    </tr>\n",
       "  </thead>\n",
       "  <tbody>\n",
       "    <tr>\n",
       "      <th>0</th>\n",
       "      <td>0</td>\n",
       "      <td>27</td>\n",
       "      <td>Male</td>\n",
       "      <td>Marketing</td>\n",
       "      <td>Manager</td>\n",
       "      <td>9</td>\n",
       "      <td>0.586251</td>\n",
       "      <td>151</td>\n",
       "      <td>0</td>\n",
       "      <td>60132</td>\n",
       "      <td>0</td>\n",
       "    </tr>\n",
       "    <tr>\n",
       "      <th>1</th>\n",
       "      <td>1</td>\n",
       "      <td>53</td>\n",
       "      <td>Female</td>\n",
       "      <td>Sales</td>\n",
       "      <td>Engineer</td>\n",
       "      <td>10</td>\n",
       "      <td>0.261161</td>\n",
       "      <td>221</td>\n",
       "      <td>1</td>\n",
       "      <td>79947</td>\n",
       "      <td>0</td>\n",
       "    </tr>\n",
       "    <tr>\n",
       "      <th>2</th>\n",
       "      <td>2</td>\n",
       "      <td>59</td>\n",
       "      <td>Female</td>\n",
       "      <td>Marketing</td>\n",
       "      <td>Analyst</td>\n",
       "      <td>8</td>\n",
       "      <td>0.304382</td>\n",
       "      <td>184</td>\n",
       "      <td>0</td>\n",
       "      <td>46958</td>\n",
       "      <td>1</td>\n",
       "    </tr>\n",
       "    <tr>\n",
       "      <th>3</th>\n",
       "      <td>3</td>\n",
       "      <td>42</td>\n",
       "      <td>Female</td>\n",
       "      <td>Engineering</td>\n",
       "      <td>Manager</td>\n",
       "      <td>1</td>\n",
       "      <td>0.480779</td>\n",
       "      <td>242</td>\n",
       "      <td>0</td>\n",
       "      <td>40662</td>\n",
       "      <td>0</td>\n",
       "    </tr>\n",
       "    <tr>\n",
       "      <th>4</th>\n",
       "      <td>4</td>\n",
       "      <td>44</td>\n",
       "      <td>Female</td>\n",
       "      <td>Sales</td>\n",
       "      <td>Engineer</td>\n",
       "      <td>10</td>\n",
       "      <td>0.636244</td>\n",
       "      <td>229</td>\n",
       "      <td>1</td>\n",
       "      <td>74307</td>\n",
       "      <td>0</td>\n",
       "    </tr>\n",
       "  </tbody>\n",
       "</table>\n",
       "</div>"
      ],
      "text/plain": [
       "   Employee_ID  Age  Gender   Department Job_Title  Years_at_Company  \\\n",
       "0            0   27    Male    Marketing   Manager                 9   \n",
       "1            1   53  Female        Sales  Engineer                10   \n",
       "2            2   59  Female    Marketing   Analyst                 8   \n",
       "3            3   42  Female  Engineering   Manager                 1   \n",
       "4            4   44  Female        Sales  Engineer                10   \n",
       "\n",
       "   Satisfaction_Level  Average_Monthly_Hours  Promotion_Last_5Years  Salary  \\\n",
       "0            0.586251                    151                      0   60132   \n",
       "1            0.261161                    221                      1   79947   \n",
       "2            0.304382                    184                      0   46958   \n",
       "3            0.480779                    242                      0   40662   \n",
       "4            0.636244                    229                      1   74307   \n",
       "\n",
       "   Attrition  \n",
       "0          0  \n",
       "1          0  \n",
       "2          1  \n",
       "3          0  \n",
       "4          0  "
      ]
     },
     "execution_count": 6,
     "metadata": {},
     "output_type": "execute_result"
    }
   ],
   "source": [
    "data.head()"
   ]
  },
  {
   "cell_type": "code",
   "execution_count": 7,
   "metadata": {},
   "outputs": [
    {
     "data": {
      "text/plain": [
       "Index(['Employee_ID', 'Age', 'Gender', 'Department', 'Job_Title',\n",
       "       'Years_at_Company', 'Satisfaction_Level', 'Average_Monthly_Hours',\n",
       "       'Promotion_Last_5Years', 'Salary', 'Attrition'],\n",
       "      dtype='object')"
      ]
     },
     "execution_count": 7,
     "metadata": {},
     "output_type": "execute_result"
    }
   ],
   "source": [
    "data.columns"
   ]
  },
  {
   "cell_type": "code",
   "execution_count": 8,
   "metadata": {},
   "outputs": [],
   "source": [
    "data.drop(columns= \"Employee_ID\",inplace=True)"
   ]
  },
  {
   "cell_type": "code",
   "execution_count": 9,
   "metadata": {},
   "outputs": [
    {
     "data": {
      "text/html": [
       "<div>\n",
       "<style scoped>\n",
       "    .dataframe tbody tr th:only-of-type {\n",
       "        vertical-align: middle;\n",
       "    }\n",
       "\n",
       "    .dataframe tbody tr th {\n",
       "        vertical-align: top;\n",
       "    }\n",
       "\n",
       "    .dataframe thead th {\n",
       "        text-align: right;\n",
       "    }\n",
       "</style>\n",
       "<table border=\"1\" class=\"dataframe\">\n",
       "  <thead>\n",
       "    <tr style=\"text-align: right;\">\n",
       "      <th></th>\n",
       "      <th>Age</th>\n",
       "      <th>Gender</th>\n",
       "      <th>Department</th>\n",
       "      <th>Job_Title</th>\n",
       "      <th>Years_at_Company</th>\n",
       "      <th>Satisfaction_Level</th>\n",
       "      <th>Average_Monthly_Hours</th>\n",
       "      <th>Promotion_Last_5Years</th>\n",
       "      <th>Salary</th>\n",
       "      <th>Attrition</th>\n",
       "    </tr>\n",
       "  </thead>\n",
       "  <tbody>\n",
       "    <tr>\n",
       "      <th>0</th>\n",
       "      <td>27</td>\n",
       "      <td>Male</td>\n",
       "      <td>Marketing</td>\n",
       "      <td>Manager</td>\n",
       "      <td>9</td>\n",
       "      <td>0.586251</td>\n",
       "      <td>151</td>\n",
       "      <td>0</td>\n",
       "      <td>60132</td>\n",
       "      <td>0</td>\n",
       "    </tr>\n",
       "    <tr>\n",
       "      <th>1</th>\n",
       "      <td>53</td>\n",
       "      <td>Female</td>\n",
       "      <td>Sales</td>\n",
       "      <td>Engineer</td>\n",
       "      <td>10</td>\n",
       "      <td>0.261161</td>\n",
       "      <td>221</td>\n",
       "      <td>1</td>\n",
       "      <td>79947</td>\n",
       "      <td>0</td>\n",
       "    </tr>\n",
       "    <tr>\n",
       "      <th>2</th>\n",
       "      <td>59</td>\n",
       "      <td>Female</td>\n",
       "      <td>Marketing</td>\n",
       "      <td>Analyst</td>\n",
       "      <td>8</td>\n",
       "      <td>0.304382</td>\n",
       "      <td>184</td>\n",
       "      <td>0</td>\n",
       "      <td>46958</td>\n",
       "      <td>1</td>\n",
       "    </tr>\n",
       "    <tr>\n",
       "      <th>3</th>\n",
       "      <td>42</td>\n",
       "      <td>Female</td>\n",
       "      <td>Engineering</td>\n",
       "      <td>Manager</td>\n",
       "      <td>1</td>\n",
       "      <td>0.480779</td>\n",
       "      <td>242</td>\n",
       "      <td>0</td>\n",
       "      <td>40662</td>\n",
       "      <td>0</td>\n",
       "    </tr>\n",
       "    <tr>\n",
       "      <th>4</th>\n",
       "      <td>44</td>\n",
       "      <td>Female</td>\n",
       "      <td>Sales</td>\n",
       "      <td>Engineer</td>\n",
       "      <td>10</td>\n",
       "      <td>0.636244</td>\n",
       "      <td>229</td>\n",
       "      <td>1</td>\n",
       "      <td>74307</td>\n",
       "      <td>0</td>\n",
       "    </tr>\n",
       "  </tbody>\n",
       "</table>\n",
       "</div>"
      ],
      "text/plain": [
       "   Age  Gender   Department Job_Title  Years_at_Company  Satisfaction_Level  \\\n",
       "0   27    Male    Marketing   Manager                 9            0.586251   \n",
       "1   53  Female        Sales  Engineer                10            0.261161   \n",
       "2   59  Female    Marketing   Analyst                 8            0.304382   \n",
       "3   42  Female  Engineering   Manager                 1            0.480779   \n",
       "4   44  Female        Sales  Engineer                10            0.636244   \n",
       "\n",
       "   Average_Monthly_Hours  Promotion_Last_5Years  Salary  Attrition  \n",
       "0                    151                      0   60132          0  \n",
       "1                    221                      1   79947          0  \n",
       "2                    184                      0   46958          1  \n",
       "3                    242                      0   40662          0  \n",
       "4                    229                      1   74307          0  "
      ]
     },
     "execution_count": 9,
     "metadata": {},
     "output_type": "execute_result"
    }
   ],
   "source": [
    "data.head()"
   ]
  },
  {
   "cell_type": "code",
   "execution_count": 10,
   "metadata": {},
   "outputs": [
    {
     "name": "stdout",
     "output_type": "stream",
     "text": [
      "Requirement already satisfied: matplotlib in c:\\users\\srusti s deshmukh\\appdata\\local\\programs\\python\\python39\\lib\\site-packages (3.5.3)\n",
      "Requirement already satisfied: cycler>=0.10 in c:\\users\\srusti s deshmukh\\appdata\\local\\programs\\python\\python39\\lib\\site-packages (from matplotlib) (0.11.0)\n",
      "Requirement already satisfied: fonttools>=4.22.0 in c:\\users\\srusti s deshmukh\\appdata\\local\\programs\\python\\python39\\lib\\site-packages (from matplotlib) (4.38.0)\n",
      "Requirement already satisfied: kiwisolver>=1.0.1 in c:\\users\\srusti s deshmukh\\appdata\\local\\programs\\python\\python39\\lib\\site-packages (from matplotlib) (1.4.5)\n",
      "Requirement already satisfied: numpy>=1.17 in c:\\users\\srusti s deshmukh\\appdata\\local\\programs\\python\\python39\\lib\\site-packages (from matplotlib) (1.26.4)\n",
      "Requirement already satisfied: packaging>=20.0 in c:\\users\\srusti s deshmukh\\appdata\\local\\programs\\python\\python39\\lib\\site-packages (from matplotlib) (24.0)\n",
      "Requirement already satisfied: pillow>=6.2.0 in c:\\users\\srusti s deshmukh\\appdata\\local\\programs\\python\\python39\\lib\\site-packages (from matplotlib) (9.5.0)\n",
      "Requirement already satisfied: pyparsing>=2.2.1 in c:\\users\\srusti s deshmukh\\appdata\\local\\programs\\python\\python39\\lib\\site-packages (from matplotlib) (3.1.4)\n",
      "Requirement already satisfied: python-dateutil>=2.7 in c:\\users\\srusti s deshmukh\\appdata\\local\\programs\\python\\python39\\lib\\site-packages (from matplotlib) (2.9.0.post0)\n",
      "Requirement already satisfied: six>=1.5 in c:\\users\\srusti s deshmukh\\appdata\\local\\programs\\python\\python39\\lib\\site-packages (from python-dateutil>=2.7->matplotlib) (1.17.0)\n"
     ]
    },
    {
     "name": "stderr",
     "output_type": "stream",
     "text": [
      "\n",
      "[notice] A new release of pip is available: 25.1.1 -> 25.2\n",
      "[notice] To update, run: python.exe -m pip install --upgrade pip\n"
     ]
    }
   ],
   "source": [
    "!pip install matplotlib\n"
   ]
  },
  {
   "cell_type": "code",
   "execution_count": 11,
   "metadata": {},
   "outputs": [],
   "source": [
    "import matplotlib.pyplot as plt"
   ]
  },
  {
   "cell_type": "code",
   "execution_count": 12,
   "metadata": {},
   "outputs": [
    {
     "data": {
      "image/png": "[encoded data removed]",
      "text/plain": [
       "<Figure size 640x480 with 1 Axes>"
      ]
     },
     "metadata": {},
     "output_type": "display_data"
    }
   ],
   "source": [
    "data[\"Gender\"].value_counts().plot(kind=\"pie\")\n",
    "plt.ylabel(\"\")\n",
    "plt.title(\"Gender Count of Employees\")\n",
    "plt.show()"
   ]
  },
  {
   "cell_type": "code",
   "execution_count": 13,
   "metadata": {},
   "outputs": [
    {
     "data": {
      "text/html": [
       "<div>\n",
       "<style scoped>\n",
       "    .dataframe tbody tr th:only-of-type {\n",
       "        vertical-align: middle;\n",
       "    }\n",
       "\n",
       "    .dataframe tbody tr th {\n",
       "        vertical-align: top;\n",
       "    }\n",
       "\n",
       "    .dataframe thead th {\n",
       "        text-align: right;\n",
       "    }\n",
       "</style>\n",
       "<table border=\"1\" class=\"dataframe\">\n",
       "  <thead>\n",
       "    <tr style=\"text-align: right;\">\n",
       "      <th></th>\n",
       "      <th>Age</th>\n",
       "      <th>Gender</th>\n",
       "      <th>Department</th>\n",
       "      <th>Job_Title</th>\n",
       "      <th>Years_at_Company</th>\n",
       "      <th>Satisfaction_Level</th>\n",
       "      <th>Average_Monthly_Hours</th>\n",
       "      <th>Promotion_Last_5Years</th>\n",
       "      <th>Salary</th>\n",
       "      <th>Attrition</th>\n",
       "    </tr>\n",
       "  </thead>\n",
       "  <tbody>\n",
       "    <tr>\n",
       "      <th>0</th>\n",
       "      <td>27</td>\n",
       "      <td>Male</td>\n",
       "      <td>Marketing</td>\n",
       "      <td>Manager</td>\n",
       "      <td>9</td>\n",
       "      <td>0.586251</td>\n",
       "      <td>151</td>\n",
       "      <td>0</td>\n",
       "      <td>60132</td>\n",
       "      <td>0</td>\n",
       "    </tr>\n",
       "    <tr>\n",
       "      <th>1</th>\n",
       "      <td>53</td>\n",
       "      <td>Female</td>\n",
       "      <td>Sales</td>\n",
       "      <td>Engineer</td>\n",
       "      <td>10</td>\n",
       "      <td>0.261161</td>\n",
       "      <td>221</td>\n",
       "      <td>1</td>\n",
       "      <td>79947</td>\n",
       "      <td>0</td>\n",
       "    </tr>\n",
       "    <tr>\n",
       "      <th>2</th>\n",
       "      <td>59</td>\n",
       "      <td>Female</td>\n",
       "      <td>Marketing</td>\n",
       "      <td>Analyst</td>\n",
       "      <td>8</td>\n",
       "      <td>0.304382</td>\n",
       "      <td>184</td>\n",
       "      <td>0</td>\n",
       "      <td>46958</td>\n",
       "      <td>1</td>\n",
       "    </tr>\n",
       "    <tr>\n",
       "      <th>3</th>\n",
       "      <td>42</td>\n",
       "      <td>Female</td>\n",
       "      <td>Engineering</td>\n",
       "      <td>Manager</td>\n",
       "      <td>1</td>\n",
       "      <td>0.480779</td>\n",
       "      <td>242</td>\n",
       "      <td>0</td>\n",
       "      <td>40662</td>\n",
       "      <td>0</td>\n",
       "    </tr>\n",
       "    <tr>\n",
       "      <th>4</th>\n",
       "      <td>44</td>\n",
       "      <td>Female</td>\n",
       "      <td>Sales</td>\n",
       "      <td>Engineer</td>\n",
       "      <td>10</td>\n",
       "      <td>0.636244</td>\n",
       "      <td>229</td>\n",
       "      <td>1</td>\n",
       "      <td>74307</td>\n",
       "      <td>0</td>\n",
       "    </tr>\n",
       "  </tbody>\n",
       "</table>\n",
       "</div>"
      ],
      "text/plain": [
       "   Age  Gender   Department Job_Title  Years_at_Company  Satisfaction_Level  \\\n",
       "0   27    Male    Marketing   Manager                 9            0.586251   \n",
       "1   53  Female        Sales  Engineer                10            0.261161   \n",
       "2   59  Female    Marketing   Analyst                 8            0.304382   \n",
       "3   42  Female  Engineering   Manager                 1            0.480779   \n",
       "4   44  Female        Sales  Engineer                10            0.636244   \n",
       "\n",
       "   Average_Monthly_Hours  Promotion_Last_5Years  Salary  Attrition  \n",
       "0                    151                      0   60132          0  \n",
       "1                    221                      1   79947          0  \n",
       "2                    184                      0   46958          1  \n",
       "3                    242                      0   40662          0  \n",
       "4                    229                      1   74307          0  "
      ]
     },
     "execution_count": 13,
     "metadata": {},
     "output_type": "execute_result"
    }
   ],
   "source": [
    "data.head()"
   ]
  },
  {
   "cell_type": "code",
   "execution_count": 14,
   "metadata": {},
   "outputs": [
    {
     "data": {
      "image/png": "[encoded data removed]",
      "text/plain": [
       "<Figure size 640x480 with 1 Axes>"
      ]
     },
     "metadata": {},
     "output_type": "display_data"
    }
   ],
   "source": [
    "data.groupby(\"Job_Title\")[\"Salary\"].mean().sort_values(ascending=False).plot(kind=\"line\")\n",
    "plt.title(\"Average Salary by Job Title\")\n",
    "plt.xlabel(\"Job Title\")\n",
    "plt.ylabel(\"Average Salary\")\n",
    "plt.show()"
   ]
  },
  {
   "cell_type": "code",
   "execution_count": 15,
   "metadata": {},
   "outputs": [
    {
     "data": {
      "text/html": [
       "<div>\n",
       "<style scoped>\n",
       "    .dataframe tbody tr th:only-of-type {\n",
       "        vertical-align: middle;\n",
       "    }\n",
       "\n",
       "    .dataframe tbody tr th {\n",
       "        vertical-align: top;\n",
       "    }\n",
       "\n",
       "    .dataframe thead th {\n",
       "        text-align: right;\n",
       "    }\n",
       "</style>\n",
       "<table border=\"1\" class=\"dataframe\">\n",
       "  <thead>\n",
       "    <tr style=\"text-align: right;\">\n",
       "      <th></th>\n",
       "      <th>Department</th>\n",
       "      <th>Promotion_Last_5Years</th>\n",
       "      <th>Salary</th>\n",
       "    </tr>\n",
       "  </thead>\n",
       "  <tbody>\n",
       "    <tr>\n",
       "      <th>0</th>\n",
       "      <td>Engineering</td>\n",
       "      <td>0</td>\n",
       "      <td>65541.063636</td>\n",
       "    </tr>\n",
       "    <tr>\n",
       "      <th>1</th>\n",
       "      <td>Engineering</td>\n",
       "      <td>1</td>\n",
       "      <td>62424.127660</td>\n",
       "    </tr>\n",
       "    <tr>\n",
       "      <th>2</th>\n",
       "      <td>Finance</td>\n",
       "      <td>0</td>\n",
       "      <td>63390.145299</td>\n",
       "    </tr>\n",
       "    <tr>\n",
       "      <th>3</th>\n",
       "      <td>Finance</td>\n",
       "      <td>1</td>\n",
       "      <td>62041.269663</td>\n",
       "    </tr>\n",
       "    <tr>\n",
       "      <th>4</th>\n",
       "      <td>HR</td>\n",
       "      <td>0</td>\n",
       "      <td>63012.556701</td>\n",
       "    </tr>\n",
       "    <tr>\n",
       "      <th>5</th>\n",
       "      <td>HR</td>\n",
       "      <td>1</td>\n",
       "      <td>65882.861702</td>\n",
       "    </tr>\n",
       "    <tr>\n",
       "      <th>6</th>\n",
       "      <td>Marketing</td>\n",
       "      <td>0</td>\n",
       "      <td>65251.597826</td>\n",
       "    </tr>\n",
       "    <tr>\n",
       "      <th>7</th>\n",
       "      <td>Marketing</td>\n",
       "      <td>1</td>\n",
       "      <td>66018.632653</td>\n",
       "    </tr>\n",
       "    <tr>\n",
       "      <th>8</th>\n",
       "      <td>Sales</td>\n",
       "      <td>0</td>\n",
       "      <td>64295.846939</td>\n",
       "    </tr>\n",
       "    <tr>\n",
       "      <th>9</th>\n",
       "      <td>Sales</td>\n",
       "      <td>1</td>\n",
       "      <td>67838.756757</td>\n",
       "    </tr>\n",
       "  </tbody>\n",
       "</table>\n",
       "</div>"
      ],
      "text/plain": [
       "    Department  Promotion_Last_5Years        Salary\n",
       "0  Engineering                      0  65541.063636\n",
       "1  Engineering                      1  62424.127660\n",
       "2      Finance                      0  63390.145299\n",
       "3      Finance                      1  62041.269663\n",
       "4           HR                      0  63012.556701\n",
       "5           HR                      1  65882.861702\n",
       "6    Marketing                      0  65251.597826\n",
       "7    Marketing                      1  66018.632653\n",
       "8        Sales                      0  64295.846939\n",
       "9        Sales                      1  67838.756757"
      ]
     },
     "execution_count": 15,
     "metadata": {},
     "output_type": "execute_result"
    }
   ],
   "source": [
    "data.groupby([\"Department\",\"Promotion_Last_5Years\"])[\"Salary\"].mean().reset_index()"
   ]
  },
  {
   "cell_type": "code",
   "execution_count": 16,
   "metadata": {},
   "outputs": [
    {
     "data": {
      "text/html": [
       "<div>\n",
       "<style scoped>\n",
       "    .dataframe tbody tr th:only-of-type {\n",
       "        vertical-align: middle;\n",
       "    }\n",
       "\n",
       "    .dataframe tbody tr th {\n",
       "        vertical-align: top;\n",
       "    }\n",
       "\n",
       "    .dataframe thead th {\n",
       "        text-align: right;\n",
       "    }\n",
       "</style>\n",
       "<table border=\"1\" class=\"dataframe\">\n",
       "  <thead>\n",
       "    <tr style=\"text-align: right;\">\n",
       "      <th></th>\n",
       "      <th>Age</th>\n",
       "      <th>Gender</th>\n",
       "      <th>Department</th>\n",
       "      <th>Job_Title</th>\n",
       "      <th>Years_at_Company</th>\n",
       "      <th>Satisfaction_Level</th>\n",
       "      <th>Average_Monthly_Hours</th>\n",
       "      <th>Promotion_Last_5Years</th>\n",
       "      <th>Salary</th>\n",
       "      <th>Attrition</th>\n",
       "    </tr>\n",
       "  </thead>\n",
       "  <tbody>\n",
       "    <tr>\n",
       "      <th>0</th>\n",
       "      <td>27</td>\n",
       "      <td>Male</td>\n",
       "      <td>Marketing</td>\n",
       "      <td>Manager</td>\n",
       "      <td>9</td>\n",
       "      <td>0.586251</td>\n",
       "      <td>151</td>\n",
       "      <td>0</td>\n",
       "      <td>60132</td>\n",
       "      <td>0</td>\n",
       "    </tr>\n",
       "    <tr>\n",
       "      <th>1</th>\n",
       "      <td>53</td>\n",
       "      <td>Female</td>\n",
       "      <td>Sales</td>\n",
       "      <td>Engineer</td>\n",
       "      <td>10</td>\n",
       "      <td>0.261161</td>\n",
       "      <td>221</td>\n",
       "      <td>1</td>\n",
       "      <td>79947</td>\n",
       "      <td>0</td>\n",
       "    </tr>\n",
       "    <tr>\n",
       "      <th>2</th>\n",
       "      <td>59</td>\n",
       "      <td>Female</td>\n",
       "      <td>Marketing</td>\n",
       "      <td>Analyst</td>\n",
       "      <td>8</td>\n",
       "      <td>0.304382</td>\n",
       "      <td>184</td>\n",
       "      <td>0</td>\n",
       "      <td>46958</td>\n",
       "      <td>1</td>\n",
       "    </tr>\n",
       "    <tr>\n",
       "      <th>3</th>\n",
       "      <td>42</td>\n",
       "      <td>Female</td>\n",
       "      <td>Engineering</td>\n",
       "      <td>Manager</td>\n",
       "      <td>1</td>\n",
       "      <td>0.480779</td>\n",
       "      <td>242</td>\n",
       "      <td>0</td>\n",
       "      <td>40662</td>\n",
       "      <td>0</td>\n",
       "    </tr>\n",
       "    <tr>\n",
       "      <th>4</th>\n",
       "      <td>44</td>\n",
       "      <td>Female</td>\n",
       "      <td>Sales</td>\n",
       "      <td>Engineer</td>\n",
       "      <td>10</td>\n",
       "      <td>0.636244</td>\n",
       "      <td>229</td>\n",
       "      <td>1</td>\n",
       "      <td>74307</td>\n",
       "      <td>0</td>\n",
       "    </tr>\n",
       "  </tbody>\n",
       "</table>\n",
       "</div>"
      ],
      "text/plain": [
       "   Age  Gender   Department Job_Title  Years_at_Company  Satisfaction_Level  \\\n",
       "0   27    Male    Marketing   Manager                 9            0.586251   \n",
       "1   53  Female        Sales  Engineer                10            0.261161   \n",
       "2   59  Female    Marketing   Analyst                 8            0.304382   \n",
       "3   42  Female  Engineering   Manager                 1            0.480779   \n",
       "4   44  Female        Sales  Engineer                10            0.636244   \n",
       "\n",
       "   Average_Monthly_Hours  Promotion_Last_5Years  Salary  Attrition  \n",
       "0                    151                      0   60132          0  \n",
       "1                    221                      1   79947          0  \n",
       "2                    184                      0   46958          1  \n",
       "3                    242                      0   40662          0  \n",
       "4                    229                      1   74307          0  "
      ]
     },
     "execution_count": 16,
     "metadata": {},
     "output_type": "execute_result"
    }
   ],
   "source": [
    "data.head()"
   ]
  },
  {
   "cell_type": "code",
   "execution_count": 17,
   "metadata": {},
   "outputs": [
    {
     "data": {
      "text/html": [
       "<div>\n",
       "<style scoped>\n",
       "    .dataframe tbody tr th:only-of-type {\n",
       "        vertical-align: middle;\n",
       "    }\n",
       "\n",
       "    .dataframe tbody tr th {\n",
       "        vertical-align: top;\n",
       "    }\n",
       "\n",
       "    .dataframe thead th {\n",
       "        text-align: right;\n",
       "    }\n",
       "</style>\n",
       "<table border=\"1\" class=\"dataframe\">\n",
       "  <thead>\n",
       "    <tr style=\"text-align: right;\">\n",
       "      <th></th>\n",
       "      <th>Age</th>\n",
       "      <th>Years_at_Company</th>\n",
       "      <th>Satisfaction_Level</th>\n",
       "      <th>Average_Monthly_Hours</th>\n",
       "      <th>Promotion_Last_5Years</th>\n",
       "      <th>Salary</th>\n",
       "      <th>Attrition</th>\n",
       "    </tr>\n",
       "  </thead>\n",
       "  <tbody>\n",
       "    <tr>\n",
       "      <th>count</th>\n",
       "      <td>1000.000000</td>\n",
       "      <td>1000.000000</td>\n",
       "      <td>1000.000000</td>\n",
       "      <td>1000.000000</td>\n",
       "      <td>1000.000000</td>\n",
       "      <td>1000.000000</td>\n",
       "      <td>1000.000000</td>\n",
       "    </tr>\n",
       "    <tr>\n",
       "      <th>mean</th>\n",
       "      <td>42.205000</td>\n",
       "      <td>5.605000</td>\n",
       "      <td>0.505995</td>\n",
       "      <td>199.493000</td>\n",
       "      <td>0.486000</td>\n",
       "      <td>64624.980000</td>\n",
       "      <td>0.495000</td>\n",
       "    </tr>\n",
       "    <tr>\n",
       "      <th>std</th>\n",
       "      <td>10.016452</td>\n",
       "      <td>2.822223</td>\n",
       "      <td>0.289797</td>\n",
       "      <td>29.631908</td>\n",
       "      <td>0.500054</td>\n",
       "      <td>20262.984333</td>\n",
       "      <td>0.500225</td>\n",
       "    </tr>\n",
       "    <tr>\n",
       "      <th>min</th>\n",
       "      <td>25.000000</td>\n",
       "      <td>1.000000</td>\n",
       "      <td>0.001376</td>\n",
       "      <td>150.000000</td>\n",
       "      <td>0.000000</td>\n",
       "      <td>30099.000000</td>\n",
       "      <td>0.000000</td>\n",
       "    </tr>\n",
       "    <tr>\n",
       "      <th>25%</th>\n",
       "      <td>33.000000</td>\n",
       "      <td>3.000000</td>\n",
       "      <td>0.258866</td>\n",
       "      <td>173.000000</td>\n",
       "      <td>0.000000</td>\n",
       "      <td>47613.500000</td>\n",
       "      <td>0.000000</td>\n",
       "    </tr>\n",
       "    <tr>\n",
       "      <th>50%</th>\n",
       "      <td>43.000000</td>\n",
       "      <td>6.000000</td>\n",
       "      <td>0.505675</td>\n",
       "      <td>201.000000</td>\n",
       "      <td>0.000000</td>\n",
       "      <td>64525.000000</td>\n",
       "      <td>0.000000</td>\n",
       "    </tr>\n",
       "    <tr>\n",
       "      <th>75%</th>\n",
       "      <td>51.000000</td>\n",
       "      <td>8.000000</td>\n",
       "      <td>0.761135</td>\n",
       "      <td>225.000000</td>\n",
       "      <td>1.000000</td>\n",
       "      <td>81921.000000</td>\n",
       "      <td>1.000000</td>\n",
       "    </tr>\n",
       "    <tr>\n",
       "      <th>max</th>\n",
       "      <td>59.000000</td>\n",
       "      <td>10.000000</td>\n",
       "      <td>0.999979</td>\n",
       "      <td>249.000000</td>\n",
       "      <td>1.000000</td>\n",
       "      <td>99991.000000</td>\n",
       "      <td>1.000000</td>\n",
       "    </tr>\n",
       "  </tbody>\n",
       "</table>\n",
       "</div>"
      ],
      "text/plain": [
       "               Age  Years_at_Company  Satisfaction_Level  \\\n",
       "count  1000.000000       1000.000000         1000.000000   \n",
       "mean     42.205000          5.605000            0.505995   \n",
       "std      10.016452          2.822223            0.289797   \n",
       "min      25.000000          1.000000            0.001376   \n",
       "25%      33.000000          3.000000            0.258866   \n",
       "50%      43.000000          6.000000            0.505675   \n",
       "75%      51.000000          8.000000            0.761135   \n",
       "max      59.000000         10.000000            0.999979   \n",
       "\n",
       "       Average_Monthly_Hours  Promotion_Last_5Years        Salary    Attrition  \n",
       "count            1000.000000            1000.000000   1000.000000  1000.000000  \n",
       "mean              199.493000               0.486000  64624.980000     0.495000  \n",
       "std                29.631908               0.500054  20262.984333     0.500225  \n",
       "min               150.000000               0.000000  30099.000000     0.000000  \n",
       "25%               173.000000               0.000000  47613.500000     0.000000  \n",
       "50%               201.000000               0.000000  64525.000000     0.000000  \n",
       "75%               225.000000               1.000000  81921.000000     1.000000  \n",
       "max               249.000000               1.000000  99991.000000     1.000000  "
      ]
     },
     "execution_count": 17,
     "metadata": {},
     "output_type": "execute_result"
    }
   ],
   "source": [
    "data.describe()"
   ]
  },
  {
   "cell_type": "code",
   "execution_count": 18,
   "metadata": {},
   "outputs": [
    {
     "data": {
      "text/plain": [
       "Index(['Age', 'Gender', 'Department', 'Job_Title', 'Years_at_Company',\n",
       "       'Satisfaction_Level', 'Average_Monthly_Hours', 'Promotion_Last_5Years',\n",
       "       'Salary', 'Attrition'],\n",
       "      dtype='object')"
      ]
     },
     "execution_count": 18,
     "metadata": {},
     "output_type": "execute_result"
    }
   ],
   "source": [
    "data.columns"
   ]
  },
  {
   "cell_type": "code",
   "execution_count": 19,
   "metadata": {},
   "outputs": [
    {
     "data": {
      "text/html": [
       "<div>\n",
       "<style scoped>\n",
       "    .dataframe tbody tr th:only-of-type {\n",
       "        vertical-align: middle;\n",
       "    }\n",
       "\n",
       "    .dataframe tbody tr th {\n",
       "        vertical-align: top;\n",
       "    }\n",
       "\n",
       "    .dataframe thead th {\n",
       "        text-align: right;\n",
       "    }\n",
       "</style>\n",
       "<table border=\"1\" class=\"dataframe\">\n",
       "  <thead>\n",
       "    <tr style=\"text-align: right;\">\n",
       "      <th></th>\n",
       "      <th>Age</th>\n",
       "      <th>Gender</th>\n",
       "      <th>Department</th>\n",
       "      <th>Job_Title</th>\n",
       "      <th>Years_at_Company</th>\n",
       "      <th>Satisfaction_Level</th>\n",
       "      <th>Average_Monthly_Hours</th>\n",
       "      <th>Promotion_Last_5Years</th>\n",
       "      <th>Salary</th>\n",
       "      <th>Attrition</th>\n",
       "    </tr>\n",
       "  </thead>\n",
       "  <tbody>\n",
       "    <tr>\n",
       "      <th>0</th>\n",
       "      <td>27</td>\n",
       "      <td>Male</td>\n",
       "      <td>Marketing</td>\n",
       "      <td>Manager</td>\n",
       "      <td>9</td>\n",
       "      <td>0.586251</td>\n",
       "      <td>151</td>\n",
       "      <td>0</td>\n",
       "      <td>60132</td>\n",
       "      <td>0</td>\n",
       "    </tr>\n",
       "    <tr>\n",
       "      <th>1</th>\n",
       "      <td>53</td>\n",
       "      <td>Female</td>\n",
       "      <td>Sales</td>\n",
       "      <td>Engineer</td>\n",
       "      <td>10</td>\n",
       "      <td>0.261161</td>\n",
       "      <td>221</td>\n",
       "      <td>1</td>\n",
       "      <td>79947</td>\n",
       "      <td>0</td>\n",
       "    </tr>\n",
       "    <tr>\n",
       "      <th>2</th>\n",
       "      <td>59</td>\n",
       "      <td>Female</td>\n",
       "      <td>Marketing</td>\n",
       "      <td>Analyst</td>\n",
       "      <td>8</td>\n",
       "      <td>0.304382</td>\n",
       "      <td>184</td>\n",
       "      <td>0</td>\n",
       "      <td>46958</td>\n",
       "      <td>1</td>\n",
       "    </tr>\n",
       "    <tr>\n",
       "      <th>3</th>\n",
       "      <td>42</td>\n",
       "      <td>Female</td>\n",
       "      <td>Engineering</td>\n",
       "      <td>Manager</td>\n",
       "      <td>1</td>\n",
       "      <td>0.480779</td>\n",
       "      <td>242</td>\n",
       "      <td>0</td>\n",
       "      <td>40662</td>\n",
       "      <td>0</td>\n",
       "    </tr>\n",
       "    <tr>\n",
       "      <th>4</th>\n",
       "      <td>44</td>\n",
       "      <td>Female</td>\n",
       "      <td>Sales</td>\n",
       "      <td>Engineer</td>\n",
       "      <td>10</td>\n",
       "      <td>0.636244</td>\n",
       "      <td>229</td>\n",
       "      <td>1</td>\n",
       "      <td>74307</td>\n",
       "      <td>0</td>\n",
       "    </tr>\n",
       "  </tbody>\n",
       "</table>\n",
       "</div>"
      ],
      "text/plain": [
       "   Age  Gender   Department Job_Title  Years_at_Company  Satisfaction_Level  \\\n",
       "0   27    Male    Marketing   Manager                 9            0.586251   \n",
       "1   53  Female        Sales  Engineer                10            0.261161   \n",
       "2   59  Female    Marketing   Analyst                 8            0.304382   \n",
       "3   42  Female  Engineering   Manager                 1            0.480779   \n",
       "4   44  Female        Sales  Engineer                10            0.636244   \n",
       "\n",
       "   Average_Monthly_Hours  Promotion_Last_5Years  Salary  Attrition  \n",
       "0                    151                      0   60132          0  \n",
       "1                    221                      1   79947          0  \n",
       "2                    184                      0   46958          1  \n",
       "3                    242                      0   40662          0  \n",
       "4                    229                      1   74307          0  "
      ]
     },
     "execution_count": 19,
     "metadata": {},
     "output_type": "execute_result"
    }
   ],
   "source": [
    "data.head()"
   ]
  },
  {
   "cell_type": "code",
   "execution_count": 20,
   "metadata": {},
   "outputs": [],
   "source": [
    "X = data[[\"Years_at_Company\",\"Satisfaction_Level\",\"Average_Monthly_Hours\"]]\n",
    "y = data[\"Salary\"]"
   ]
  },
  {
   "cell_type": "code",
   "execution_count": 21,
   "metadata": {},
   "outputs": [
    {
     "name": "stdout",
     "output_type": "stream",
     "text": [
      "Requirement already satisfied: scikit-learn in c:\\users\\srusti s deshmukh\\appdata\\local\\programs\\python\\python39\\lib\\site-packages (1.3.2)\n",
      "Requirement already satisfied: numpy<2.0,>=1.17.3 in c:\\users\\srusti s deshmukh\\appdata\\local\\programs\\python\\python39\\lib\\site-packages (from scikit-learn) (1.26.4)\n",
      "Requirement already satisfied: scipy>=1.5.0 in c:\\users\\srusti s deshmukh\\appdata\\local\\programs\\python\\python39\\lib\\site-packages (from scikit-learn) (1.13.1)\n",
      "Requirement already satisfied: joblib>=1.1.1 in c:\\users\\srusti s deshmukh\\appdata\\local\\programs\\python\\python39\\lib\\site-packages (from scikit-learn) (1.3.2)\n",
      "Requirement already satisfied: threadpoolctl>=2.0.0 in c:\\users\\srusti s deshmukh\\appdata\\local\\programs\\python\\python39\\lib\\site-packages (from scikit-learn) (3.1.0)\n"
     ]
    },
    {
     "name": "stderr",
     "output_type": "stream",
     "text": [
      "\n",
      "[notice] A new release of pip is available: 25.1.1 -> 25.2\n",
      "[notice] To update, run: python.exe -m pip install --upgrade pip\n"
     ]
    }
   ],
   "source": [
    "!pip install scikit-learn\n"
   ]
  },
  {
   "cell_type": "code",
   "execution_count": 22,
   "metadata": {},
   "outputs": [],
   "source": [
    "from sklearn.model_selection import train_test_split\n",
    "X_train,X_test,y_train,y_test = train_test_split(X,y,test_size=0.2)"
   ]
  },
  {
   "cell_type": "code",
   "execution_count": 23,
   "metadata": {},
   "outputs": [
    {
     "data": {
      "text/html": [
       "<div>\n",
       "<style scoped>\n",
       "    .dataframe tbody tr th:only-of-type {\n",
       "        vertical-align: middle;\n",
       "    }\n",
       "\n",
       "    .dataframe tbody tr th {\n",
       "        vertical-align: top;\n",
       "    }\n",
       "\n",
       "    .dataframe thead th {\n",
       "        text-align: right;\n",
       "    }\n",
       "</style>\n",
       "<table border=\"1\" class=\"dataframe\">\n",
       "  <thead>\n",
       "    <tr style=\"text-align: right;\">\n",
       "      <th></th>\n",
       "      <th>Years_at_Company</th>\n",
       "      <th>Satisfaction_Level</th>\n",
       "      <th>Average_Monthly_Hours</th>\n",
       "    </tr>\n",
       "  </thead>\n",
       "  <tbody>\n",
       "    <tr>\n",
       "      <th>0</th>\n",
       "      <td>9</td>\n",
       "      <td>0.586251</td>\n",
       "      <td>151</td>\n",
       "    </tr>\n",
       "    <tr>\n",
       "      <th>1</th>\n",
       "      <td>10</td>\n",
       "      <td>0.261161</td>\n",
       "      <td>221</td>\n",
       "    </tr>\n",
       "    <tr>\n",
       "      <th>2</th>\n",
       "      <td>8</td>\n",
       "      <td>0.304382</td>\n",
       "      <td>184</td>\n",
       "    </tr>\n",
       "    <tr>\n",
       "      <th>3</th>\n",
       "      <td>1</td>\n",
       "      <td>0.480779</td>\n",
       "      <td>242</td>\n",
       "    </tr>\n",
       "    <tr>\n",
       "      <th>4</th>\n",
       "      <td>10</td>\n",
       "      <td>0.636244</td>\n",
       "      <td>229</td>\n",
       "    </tr>\n",
       "    <tr>\n",
       "      <th>...</th>\n",
       "      <td>...</td>\n",
       "      <td>...</td>\n",
       "      <td>...</td>\n",
       "    </tr>\n",
       "    <tr>\n",
       "      <th>995</th>\n",
       "      <td>3</td>\n",
       "      <td>0.377435</td>\n",
       "      <td>239</td>\n",
       "    </tr>\n",
       "    <tr>\n",
       "      <th>996</th>\n",
       "      <td>1</td>\n",
       "      <td>0.431152</td>\n",
       "      <td>154</td>\n",
       "    </tr>\n",
       "    <tr>\n",
       "      <th>997</th>\n",
       "      <td>3</td>\n",
       "      <td>0.647102</td>\n",
       "      <td>206</td>\n",
       "    </tr>\n",
       "    <tr>\n",
       "      <th>998</th>\n",
       "      <td>2</td>\n",
       "      <td>0.304813</td>\n",
       "      <td>241</td>\n",
       "    </tr>\n",
       "    <tr>\n",
       "      <th>999</th>\n",
       "      <td>1</td>\n",
       "      <td>0.940510</td>\n",
       "      <td>159</td>\n",
       "    </tr>\n",
       "  </tbody>\n",
       "</table>\n",
       "<p>1000 rows × 3 columns</p>\n",
       "</div>"
      ],
      "text/plain": [
       "     Years_at_Company  Satisfaction_Level  Average_Monthly_Hours\n",
       "0                   9            0.586251                    151\n",
       "1                  10            0.261161                    221\n",
       "2                   8            0.304382                    184\n",
       "3                   1            0.480779                    242\n",
       "4                  10            0.636244                    229\n",
       "..                ...                 ...                    ...\n",
       "995                 3            0.377435                    239\n",
       "996                 1            0.431152                    154\n",
       "997                 3            0.647102                    206\n",
       "998                 2            0.304813                    241\n",
       "999                 1            0.940510                    159\n",
       "\n",
       "[1000 rows x 3 columns]"
      ]
     },
     "execution_count": 23,
     "metadata": {},
     "output_type": "execute_result"
    }
   ],
   "source": [
    "X"
   ]
  },
  {
   "cell_type": "code",
   "execution_count": 24,
   "metadata": {},
   "outputs": [],
   "source": [
    "from sklearn.preprocessing import StandardScaler \n",
    "scaler = StandardScaler()\n",
    "X_train = scaler.fit_transform(X_train)"
   ]
  },
  {
   "cell_type": "code",
   "execution_count": 25,
   "metadata": {},
   "outputs": [
    {
     "data": {
      "text/plain": [
       "array([[-1.30881253,  0.68898317, -1.66289802],\n",
       "       [ 0.13688995,  0.13698448,  1.4492319 ],\n",
       "       [ 0.8597412 , -0.44505925,  0.57917407],\n",
       "       ...,\n",
       "       [ 1.58259244,  0.89645841,  0.34492773],\n",
       "       [-0.58596129,  0.56907187,  0.01029011],\n",
       "       [ 1.58259244, -1.67897418, -1.09401406]])"
      ]
     },
     "execution_count": 25,
     "metadata": {},
     "output_type": "execute_result"
    }
   ],
   "source": [
    "X_train"
   ]
  },
  {
   "cell_type": "code",
   "execution_count": 26,
   "metadata": {},
   "outputs": [
    {
     "data": {
      "text/plain": [
       "['scaler.pkl']"
      ]
     },
     "execution_count": 26,
     "metadata": {},
     "output_type": "execute_result"
    }
   ],
   "source": [
    "import joblib\n",
    "joblib.dump(scaler,\"scaler.pkl\")"
   ]
  },
  {
   "cell_type": "code",
   "execution_count": 27,
   "metadata": {},
   "outputs": [],
   "source": [
    "X_test = scaler.fit_transform(X_test)"
   ]
  },
  {
   "cell_type": "code",
   "execution_count": 28,
   "metadata": {},
   "outputs": [
    {
     "data": {
      "text/plain": [
       "array([[ 1.14331604e+00, -8.85604183e-01,  1.55377541e+00],\n",
       "       [-1.16975109e+00, -1.28502517e+00, -2.34793508e-01],\n",
       "       [-1.78436607e-01,  3.89929941e-01, -1.56745270e+00],\n",
       "       [ 1.47375420e+00, -1.06160811e-01,  2.21116217e-01],\n",
       "       [ 1.47375420e+00,  1.40200651e-01,  1.02772573e+00],\n",
       "       [-8.39312928e-01, -1.63379110e+00,  9.57585773e-01],\n",
       "       [ 1.47375420e+00, -1.01155155e+00, -6.20563276e-01],\n",
       "       [-8.39312928e-01, -1.31023832e+00,  6.77025942e-01],\n",
       "       [ 1.52001554e-01, -1.37495258e+00,  1.51870543e+00],\n",
       "       [-1.78436607e-01, -5.04003807e-01, -1.11154298e+00],\n",
       "       [-1.50018925e+00, -1.32540065e+00, -9.36193085e-01],\n",
       "       [ 8.12877875e-01,  1.01200325e+00,  9.92655751e-01],\n",
       "       [-1.16975109e+00,  1.09740043e+00,  9.92655751e-01],\n",
       "       [ 1.14331604e+00, -1.20449365e+00, -1.56745270e+00],\n",
       "       [ 8.12877875e-01, -8.11030954e-02,  5.36746026e-01],\n",
       "       [ 1.52001554e-01, -1.72557633e+00, -7.60843191e-01],\n",
       "       [-8.39312928e-01,  1.61642136e+00, -2.34793508e-01],\n",
       "       [-8.39312928e-01,  1.64021706e+00,  3.61396132e-01],\n",
       "       [-1.78436607e-01,  5.69704286e-01,  8.08363013e-02],\n",
       "       [ 8.12877875e-01,  8.45824725e-01,  5.36746026e-01],\n",
       "       [-1.50018925e+00, -6.53218283e-02,  1.34335554e+00],\n",
       "       [-5.08874768e-01,  1.45241402e+00, -1.00633304e+00],\n",
       "       [ 4.82439715e-01, -9.14490797e-02,  1.23814560e+00],\n",
       "       [-1.16975109e+00,  8.12866088e-01, -1.70773262e+00],\n",
       "       [-1.50018925e+00, -1.04147479e-02,  8.52375836e-01],\n",
       "       [-5.08874768e-01,  7.32008832e-01,  8.17305857e-01],\n",
       "       [ 1.47375420e+00, -9.71193503e-01,  5.01676047e-01],\n",
       "       [ 1.14331604e+00, -1.29277324e+00,  1.51870543e+00],\n",
       "       [ 1.14331604e+00,  4.68526315e-01,  1.50976259e-01],\n",
       "       [ 1.52001554e-01,  1.64480558e-01, -1.11154298e+00],\n",
       "       [-1.78436607e-01,  1.42725982e+00, -1.21675292e+00],\n",
       "       [ 1.47375420e+00, -1.45933062e+00,  2.21116217e-01],\n",
       "       [-1.16975109e+00, -1.11595096e+00,  1.09786569e+00],\n",
       "       [ 1.14331604e+00,  1.45400339e+00,  3.61396132e-01],\n",
       "       [-1.78436607e-01, -1.38529091e+00, -2.69863487e-01],\n",
       "       [-5.08874768e-01,  1.54115351e+00,  1.06279571e+00],\n",
       "       [-1.50018925e+00,  1.11927101e+00,  4.57663224e-02],\n",
       "       [-1.50018925e+00,  9.31360143e-02, -7.60843191e-01],\n",
       "       [-5.08874768e-01, -1.21585909e+00,  5.01676047e-01],\n",
       "       [-1.78436607e-01,  1.25707962e+00,  1.15906280e-01],\n",
       "       [-1.50018925e+00,  6.12020263e-01, -1.70773262e+00],\n",
       "       [ 4.82439715e-01, -9.20577805e-04, -4.10143403e-01],\n",
       "       [ 4.82439715e-01, -4.41101273e-01,  7.82235878e-01],\n",
       "       [-1.78436607e-01, -1.24344652e+00, -1.14661296e+00],\n",
       "       [-5.08874768e-01,  9.97136133e-01,  1.20307562e+00],\n",
       "       [-1.50018925e+00, -2.40637206e-01,  1.51870543e+00],\n",
       "       [-1.50018925e+00, -4.95122175e-01, -1.04140302e+00],\n",
       "       [ 4.82439715e-01, -1.19330062e+00, -2.43736353e-02],\n",
       "       [-8.39312928e-01,  1.11180384e+00, -1.11154298e+00],\n",
       "       [-1.50018925e+00, -3.90459904e-01,  6.41955963e-01],\n",
       "       [ 4.82439715e-01,  3.65907502e-01,  8.52375836e-01],\n",
       "       [ 8.12877875e-01, -6.19053173e-01, -1.28689287e+00],\n",
       "       [ 1.47375420e+00, -8.57099334e-01,  9.22515794e-01],\n",
       "       [-1.16975109e+00, -1.52996369e+00,  1.58884539e+00],\n",
       "       [ 1.14331604e+00,  8.61982671e-01, -1.29583572e-01],\n",
       "       [ 1.47375420e+00, -1.02412503e+00,  2.91256174e-01],\n",
       "       [ 4.82439715e-01,  1.32549002e-01,  1.13293567e+00],\n",
       "       [ 1.52001554e-01,  7.88980342e-01,  1.20307562e+00],\n",
       "       [-1.50018925e+00, -1.13163177e-01,  1.86046238e-01],\n",
       "       [-5.08874768e-01,  4.83480302e-01,  4.31536090e-01],\n",
       "       [ 4.82439715e-01,  3.16946285e-01,  1.15906280e-01],\n",
       "       [-8.39312928e-01,  3.11000232e-02,  5.36746026e-01],\n",
       "       [-1.78436607e-01,  9.94270066e-01,  1.15906280e-01],\n",
       "       [-1.16975109e+00,  1.64183977e+00, -1.00633304e+00],\n",
       "       [-5.08874768e-01, -1.09670400e+00,  1.06279571e+00],\n",
       "       [-5.08874768e-01, -1.68136830e+00,  4.57663224e-02],\n",
       "       [ 1.14331604e+00,  3.31761291e-01, -4.10143403e-01],\n",
       "       [ 1.14331604e+00, -1.39566531e+00, -1.35703283e+00],\n",
       "       [-5.08874768e-01, -1.50022962e+00,  7.82235878e-01],\n",
       "       [ 8.12877875e-01, -7.09794576e-01, -3.04933466e-01],\n",
       "       [ 4.82439715e-01, -1.73618024e-01, -1.04140302e+00],\n",
       "       [-5.08874768e-01,  8.40316666e-01,  1.41349550e+00],\n",
       "       [-5.08874768e-01,  2.77903168e-01,  5.71816005e-01],\n",
       "       [ 1.52001554e-01,  1.54952789e+00,  8.52375836e-01],\n",
       "       [ 8.12877875e-01,  9.04482809e-01, -3.75073424e-01],\n",
       "       [-1.50018925e+00, -1.05507702e+00,  6.77025942e-01],\n",
       "       [ 1.14331604e+00, -1.44624412e+00, -8.30983149e-01],\n",
       "       [-1.50018925e+00, -1.73246380e+00,  5.36746026e-01],\n",
       "       [-1.16975109e+00, -4.56271464e-01,  1.44856548e+00],\n",
       "       [ 8.12877875e-01, -1.54572648e-01, -1.04140302e+00],\n",
       "       [ 4.82439715e-01,  2.29817104e-02,  2.91256174e-01],\n",
       "       [-5.08874768e-01, -1.43222784e-01, -8.30983149e-01],\n",
       "       [ 8.12877875e-01,  4.81934053e-01, -9.45135930e-02],\n",
       "       [ 8.12877875e-01, -1.62702997e+00,  2.21116217e-01],\n",
       "       [ 4.82439715e-01,  1.55045616e+00, -4.45213382e-01],\n",
       "       [ 4.82439715e-01, -9.83501647e-02, -1.32196285e+00],\n",
       "       [ 1.52001554e-01,  1.26077299e+00,  1.37842552e+00],\n",
       "       [ 4.82439715e-01,  7.36155936e-01, -5.15353339e-01],\n",
       "       [ 1.47375420e+00,  1.40842989e+00, -1.14661296e+00],\n",
       "       [-1.16975109e+00, -1.49577349e+00,  4.31536090e-01],\n",
       "       [-1.78436607e-01,  1.09408732e-01, -8.30983149e-01],\n",
       "       [ 1.14331604e+00,  1.02205751e+00,  1.76419529e+00],\n",
       "       [-1.16975109e+00,  4.42021053e-01, -1.63759266e+00],\n",
       "       [ 1.52001554e-01,  1.11994738e+00, -1.29583572e-01],\n",
       "       [-1.50018925e+00,  1.44588587e+00, -1.35703283e+00],\n",
       "       [-1.16975109e+00,  4.03999107e-01,  1.48363546e+00],\n",
       "       [ 1.14331604e+00, -1.66248176e+00, -5.94436142e-02],\n",
       "       [-1.16975109e+00,  1.35963494e+00, -7.95913170e-01],\n",
       "       [ 1.14331604e+00,  1.18402779e+00,  1.15906280e-01],\n",
       "       [-1.16975109e+00,  1.49865213e+00, -7.25773212e-01],\n",
       "       [ 1.47375420e+00, -1.12577452e+00,  1.51870543e+00],\n",
       "       [ 4.82439715e-01,  1.03089497e+00, -4.10143403e-01],\n",
       "       [-1.16975109e+00,  1.23393387e+00,  6.77025942e-01],\n",
       "       [ 1.14331604e+00,  1.43928368e+00, -1.04140302e+00],\n",
       "       [ 8.12877875e-01,  3.37162932e-01, -1.14661296e+00],\n",
       "       [-5.08874768e-01,  8.77417033e-01,  8.08363013e-02],\n",
       "       [ 8.12877875e-01,  8.33603373e-01, -1.18168294e+00],\n",
       "       [-1.50018925e+00,  8.57777806e-01, -1.63759266e+00],\n",
       "       [ 1.52001554e-01, -3.26673060e-01,  7.82235878e-01],\n",
       "       [-1.78436607e-01,  1.47774898e+00,  1.65898535e+00],\n",
       "       [-5.08874768e-01, -1.15279418e+00, -1.67266264e+00],\n",
       "       [ 8.12877875e-01, -5.73218713e-01,  1.20307562e+00],\n",
       "       [-5.08874768e-01,  1.52138674e+00,  1.06963435e-02],\n",
       "       [-1.16975109e+00, -1.10945737e-01,  1.20307562e+00],\n",
       "       [ 1.47375420e+00, -8.45456531e-01, -2.34793508e-01],\n",
       "       [-1.78436607e-01, -1.03980648e-01,  4.57663224e-02],\n",
       "       [ 8.12877875e-01,  1.54413650e+00, -7.95913170e-01],\n",
       "       [-8.39312928e-01, -7.79317118e-01,  9.57585773e-01],\n",
       "       [ 8.12877875e-01, -6.04479087e-01, -4.80283360e-01],\n",
       "       [-1.50018925e+00,  1.32248955e+00,  3.96466111e-01],\n",
       "       [ 1.14331604e+00,  7.50334133e-01,  1.15906280e-01],\n",
       "       [-5.08874768e-01, -6.61171273e-02, -1.07647300e+00],\n",
       "       [ 8.12877875e-01, -1.43718897e+00, -1.64653551e-01],\n",
       "       [-1.50018925e+00, -9.50796347e-01, -6.55633255e-01],\n",
       "       [ 4.82439715e-01, -9.32204020e-01, -1.60252268e+00],\n",
       "       [ 1.14331604e+00, -6.36221290e-01, -6.55633255e-01],\n",
       "       [-1.50018925e+00,  1.42505706e+00, -1.67266264e+00],\n",
       "       [-5.08874768e-01, -1.06531682e+00,  2.56186196e-01],\n",
       "       [-1.50018925e+00,  7.32111607e-01,  1.13293567e+00],\n",
       "       [ 1.52001554e-01,  3.64284414e-01,  1.55377541e+00],\n",
       "       [-1.78436607e-01,  7.82804533e-01, -1.42717279e+00],\n",
       "       [ 8.12877875e-01, -9.35748001e-01,  8.52375836e-01],\n",
       "       [ 1.47375420e+00, -6.43401020e-01, -3.04933466e-01],\n",
       "       [-1.50018925e+00,  5.82493562e-01,  1.69405533e+00],\n",
       "       [ 1.47375420e+00,  1.59645043e+00, -1.18168294e+00],\n",
       "       [ 1.14331604e+00,  3.88273106e-01,  8.52375836e-01],\n",
       "       [ 8.12877875e-01, -9.03655609e-01,  1.02772573e+00],\n",
       "       [-1.50018925e+00, -7.18167790e-01,  6.41955963e-01],\n",
       "       [ 1.47375420e+00, -3.81630952e-01, -1.21675292e+00],\n",
       "       [-1.16975109e+00,  7.23257077e-01, -3.40003445e-01],\n",
       "       [-8.39312928e-01, -4.33173338e-01,  1.86046238e-01],\n",
       "       [ 1.47375420e+00, -7.64426506e-01,  7.82235878e-01],\n",
       "       [ 8.12877875e-01,  1.47133827e+00,  1.44856548e+00],\n",
       "       [ 1.52001554e-01,  6.23450743e-01, -1.04140302e+00],\n",
       "       [ 8.12877875e-01,  3.13237663e-01, -3.40003445e-01],\n",
       "       [-1.78436607e-01,  1.13385780e+00, -1.32196285e+00],\n",
       "       [ 1.47375420e+00,  1.56628390e+00, -1.00633304e+00],\n",
       "       [-8.39312928e-01,  4.37910967e-03, -5.50423318e-01],\n",
       "       [ 8.12877875e-01, -8.63750956e-01,  1.16800565e+00],\n",
       "       [-1.78436607e-01, -1.42448353e+00,  3.96466111e-01],\n",
       "       [ 1.47375420e+00, -1.17560766e+00, -1.29583572e-01],\n",
       "       [ 1.52001554e-01, -1.01571068e+00, -1.29583572e-01],\n",
       "       [-5.08874768e-01,  9.14619574e-01,  1.72912531e+00],\n",
       "       [ 1.14331604e+00, -9.50563116e-01,  1.37842552e+00],\n",
       "       [ 1.47375420e+00, -1.42917306e-01, -3.40003445e-01],\n",
       "       [-8.39312928e-01, -4.57484495e-01,  1.27321558e+00],\n",
       "       [-5.08874768e-01,  7.06014642e-01, -3.04933466e-01],\n",
       "       [-1.50018925e+00, -6.47254938e-01, -5.15353339e-01],\n",
       "       [ 1.14331604e+00,  1.68176880e-01, -6.90703233e-01],\n",
       "       [ 1.14331604e+00, -9.55122026e-01,  5.36746026e-01],\n",
       "       [-1.50018925e+00, -5.10877547e-01,  9.92655751e-01],\n",
       "       [ 8.12877875e-01,  9.36112397e-01, -5.50423318e-01],\n",
       "       [ 1.52001554e-01,  9.39333147e-01, -9.36193085e-01],\n",
       "       [ 1.14331604e+00, -8.40058441e-01,  1.02772573e+00],\n",
       "       [ 1.14331604e+00, -1.02693048e+00, -1.28689287e+00],\n",
       "       [-8.39312928e-01,  1.34621048e+00,  5.01676047e-01],\n",
       "       [-1.16975109e+00,  1.37784355e+00, -1.63759266e+00],\n",
       "       [ 1.47375420e+00, -1.11822247e+00, -1.11154298e+00],\n",
       "       [ 1.52001554e-01, -1.59315436e+00,  1.72912531e+00],\n",
       "       [ 1.47375420e+00,  5.74138168e-01,  3.61396132e-01],\n",
       "       [-1.16975109e+00,  1.01282102e+00, -1.99723530e-01],\n",
       "       [ 1.52001554e-01, -1.32648782e+00, -5.50423318e-01],\n",
       "       [-8.39312928e-01, -1.11942573e+00, -9.71263064e-01],\n",
       "       [-8.39312928e-01, -1.15799893e+00,  3.96466111e-01],\n",
       "       [-8.39312928e-01, -9.49330824e-02, -1.60252268e+00],\n",
       "       [ 1.47375420e+00, -1.57462258e+00, -1.63759266e+00],\n",
       "       [ 1.14331604e+00,  1.38236184e+00, -1.25182290e+00],\n",
       "       [-1.78436607e-01,  2.20772204e-01,  6.77025942e-01],\n",
       "       [ 8.12877875e-01, -5.45613501e-01, -1.63759266e+00],\n",
       "       [ 1.47375420e+00, -2.59603880e-01, -1.18168294e+00],\n",
       "       [ 1.14331604e+00,  4.99367899e-01, -2.69863487e-01],\n",
       "       [-5.08874768e-01,  9.90806234e-01, -1.07647300e+00],\n",
       "       [-5.08874768e-01, -1.73875342e+00, -1.70773262e+00],\n",
       "       [-1.78436607e-01,  9.04481742e-01, -9.01123107e-01],\n",
       "       [-1.16975109e+00,  1.14394999e+00,  1.23814560e+00],\n",
       "       [ 8.12877875e-01, -3.40642937e-01,  1.48363546e+00],\n",
       "       [-8.39312928e-01, -3.05930212e-01,  1.65898535e+00],\n",
       "       [ 1.47375420e+00, -6.15255549e-01, -1.18168294e+00],\n",
       "       [-8.39312928e-01, -9.65438437e-02, -1.49731275e+00],\n",
       "       [-5.08874768e-01,  7.73972934e-01,  1.76419529e+00],\n",
       "       [-1.16975109e+00,  1.55588915e+00,  1.27321558e+00],\n",
       "       [-1.50018925e+00,  3.19402751e-01,  2.91256174e-01],\n",
       "       [-1.50018925e+00, -8.53635318e-01, -1.49731275e+00],\n",
       "       [-1.16975109e+00,  8.13518901e-01,  1.65898535e+00],\n",
       "       [-5.08874768e-01, -7.01860824e-01, -5.15353339e-01],\n",
       "       [-5.08874768e-01,  1.29292347e+00, -2.69863487e-01],\n",
       "       [-1.16975109e+00, -1.53124614e+00,  1.20307562e+00],\n",
       "       [ 8.12877875e-01, -1.50352920e+00, -3.04933466e-01],\n",
       "       [ 1.14331604e+00,  1.87035819e-01, -1.04140302e+00],\n",
       "       [ 8.12877875e-01, -5.03822476e-01,  6.06885984e-01]])"
      ]
     },
     "execution_count": 28,
     "metadata": {},
     "output_type": "execute_result"
    }
   ],
   "source": [
    "X_test"
   ]
  },
  {
   "cell_type": "code",
   "execution_count": 29,
   "metadata": {},
   "outputs": [],
   "source": [
    "import numpy as np\n",
    "from sklearn.metrics import mean_squared_error, mean_absolute_error\n",
    "\n",
    "def results(predictions):\n",
    "  print(\"Mean absolute error on model is {}\",format(mean_absolute_error(y_test,predictions)))\n",
    "  print(\"Root maen squared error on model is {}\",format(np.sqrt(mean_squared_error(y_test,predictions))))"
   ]
  },
  {
   "cell_type": "code",
   "execution_count": 30,
   "metadata": {},
   "outputs": [
    {
     "data": {
      "text/html": [
       "<style>#sk-container-id-1 {color: black;}#sk-container-id-1 pre{padding: 0;}#sk-container-id-1 div.sk-toggleable {background-color: white;}#sk-container-id-1 label.sk-toggleable__label {cursor: pointer;display: block;width: 100%;margin-bottom: 0;padding: 0.3em;box-sizing: border-box;text-align: center;}#sk-container-id-1 label.sk-toggleable__label-arrow:before {content: \"▸\";float: left;margin-right: 0.25em;color: #696969;}#sk-container-id-1 label.sk-toggleable__label-arrow:hover:before {color: black;}#sk-container-id-1 div.sk-estimator:hover label.sk-toggleable__label-arrow:before {color: black;}#sk-container-id-1 div.sk-toggleable__content {max-height: 0;max-width: 0;overflow: hidden;text-align: left;background-color: #f0f8ff;}#sk-container-id-1 div.sk-toggleable__content pre {margin: 0.2em;color: black;border-radius: 0.25em;background-color: #f0f8ff;}#sk-container-id-1 input.sk-toggleable__control:checked~div.sk-toggleable__content {max-height: 200px;max-width: 100%;overflow: auto;}#sk-container-id-1 input.sk-toggleable__control:checked~label.sk-toggleable__label-arrow:before {content: \"▾\";}#sk-container-id-1 div.sk-estimator input.sk-toggleable__control:checked~label.sk-toggleable__label {background-color: #d4ebff;}#sk-container-id-1 div.sk-label input.sk-toggleable__control:checked~label.sk-toggleable__label {background-color: #d4ebff;}#sk-container-id-1 input.sk-hidden--visually {border: 0;clip: rect(1px 1px 1px 1px);clip: rect(1px, 1px, 1px, 1px);height: 1px;margin: -1px;overflow: hidden;padding: 0;position: absolute;width: 1px;}#sk-container-id-1 div.sk-estimator {font-family: monospace;background-color: #f0f8ff;border: 1px dotted black;border-radius: 0.25em;box-sizing: border-box;margin-bottom: 0.5em;}#sk-container-id-1 div.sk-estimator:hover {background-color: #d4ebff;}#sk-container-id-1 div.sk-parallel-item::after {content: \"\";width: 100%;border-bottom: 1px solid gray;flex-grow: 1;}#sk-container-id-1 div.sk-label:hover label.sk-toggleable__label {background-color: #d4ebff;}#sk-container-id-1 div.sk-serial::before {content: \"\";position: absolute;border-left: 1px solid gray;box-sizing: border-box;top: 0;bottom: 0;left: 50%;z-index: 0;}#sk-container-id-1 div.sk-serial {display: flex;flex-direction: column;align-items: center;background-color: white;padding-right: 0.2em;padding-left: 0.2em;position: relative;}#sk-container-id-1 div.sk-item {position: relative;z-index: 1;}#sk-container-id-1 div.sk-parallel {display: flex;align-items: stretch;justify-content: center;background-color: white;position: relative;}#sk-container-id-1 div.sk-item::before, #sk-container-id-1 div.sk-parallel-item::before {content: \"\";position: absolute;border-left: 1px solid gray;box-sizing: border-box;top: 0;bottom: 0;left: 50%;z-index: -1;}#sk-container-id-1 div.sk-parallel-item {display: flex;flex-direction: column;z-index: 1;position: relative;background-color: white;}#sk-container-id-1 div.sk-parallel-item:first-child::after {align-self: flex-end;width: 50%;}#sk-container-id-1 div.sk-parallel-item:last-child::after {align-self: flex-start;width: 50%;}#sk-container-id-1 div.sk-parallel-item:only-child::after {width: 0;}#sk-container-id-1 div.sk-dashed-wrapped {border: 1px dashed gray;margin: 0 0.4em 0.5em 0.4em;box-sizing: border-box;padding-bottom: 0.4em;background-color: white;}#sk-container-id-1 div.sk-label label {font-family: monospace;font-weight: bold;display: inline-block;line-height: 1.2em;}#sk-container-id-1 div.sk-label-container {text-align: center;}#sk-container-id-1 div.sk-container {/* jupyter's `normalize.less` sets `[hidden] { display: none; }` but bootstrap.min.css set `[hidden] { display: none !important; }` so we also need the `!important` here to be able to override the default hidden behavior on the sphinx rendered scikit-learn.org. See: https://github.com/scikit-learn/scikit-learn/issues/21755 */display: inline-block !important;position: relative;}#sk-container-id-1 div.sk-text-repr-fallback {display: none;}</style><div id=\"sk-container-id-1\" class=\"sk-top-container\"><div class=\"sk-text-repr-fallback\"><pre>LinearRegression()</pre><b>In a Jupyter environment, please rerun this cell to show the HTML representation or trust the notebook. <br />On GitHub, the HTML representation is unable to render, please try loading this page with nbviewer.org.</b></div><div class=\"sk-container\" hidden><div class=\"sk-item\"><div class=\"sk-estimator sk-toggleable\"><input class=\"sk-toggleable__control sk-hidden--visually\" id=\"sk-estimator-id-1\" type=\"checkbox\" checked><label for=\"sk-estimator-id-1\" class=\"sk-toggleable__label sk-toggleable__label-arrow\">LinearRegression</label><div class=\"sk-toggleable__content\"><pre>LinearRegression()</pre></div></div></div></div></div>"
      ],
      "text/plain": [
       "LinearRegression()"
      ]
     },
     "execution_count": 30,
     "metadata": {},
     "output_type": "execute_result"
    }
   ],
   "source": [
    "from sklearn.linear_model import LinearRegression\n",
    "lr = LinearRegression()\n",
    "lr.fit(X_train,y_train)"
   ]
  },
  {
   "cell_type": "code",
   "execution_count": 31,
   "metadata": {},
   "outputs": [],
   "source": [
    "predictionlr = lr.predict(X_test)"
   ]
  },
  {
   "cell_type": "code",
   "execution_count": 32,
   "metadata": {},
   "outputs": [
    {
     "name": "stdout",
     "output_type": "stream",
     "text": [
      "Mean absolute error on model is {} 16007.619861675748\n",
      "Root maen squared error on model is {} 18897.75089979692\n"
     ]
    }
   ],
   "source": [
    "results(predictionlr)"
   ]
  },
  {
   "cell_type": "code",
   "execution_count": 33,
   "metadata": {},
   "outputs": [],
   "source": [
    "from sklearn.model_selection import GridSearchCV\n",
    "from sklearn.svm import SVR"
   ]
  },
  {
   "cell_type": "code",
   "execution_count": 34,
   "metadata": {},
   "outputs": [],
   "source": [
    "svrmodel = SVR()"
   ]
  },
  {
   "cell_type": "code",
   "execution_count": 35,
   "metadata": {},
   "outputs": [],
   "source": [
    "param_gridsvr = {\n",
    "    'C': [0.1, 1, 10],\n",
    "    'epsilon': [0.1, 0.2, 0.5],\n",
    "    'kernel': ['linear', 'poly', 'rbf'],  # Ensure valid kernel types\n",
    "    'degree': [2, 3, 4],  # Only applicable if 'poly' kernel is used\n",
    "}"
   ]
  },
  {
   "cell_type": "code",
   "execution_count": 36,
   "metadata": {},
   "outputs": [],
   "source": [
    "gridsvr = GridSearchCV(svrmodel, param_gridsvr)"
   ]
  },
  {
   "cell_type": "code",
   "execution_count": 37,
   "metadata": {},
   "outputs": [
    {
     "data": {
      "text/html": [
       "<style>#sk-container-id-2 {color: black;}#sk-container-id-2 pre{padding: 0;}#sk-container-id-2 div.sk-toggleable {background-color: white;}#sk-container-id-2 label.sk-toggleable__label {cursor: pointer;display: block;width: 100%;margin-bottom: 0;padding: 0.3em;box-sizing: border-box;text-align: center;}#sk-container-id-2 label.sk-toggleable__label-arrow:before {content: \"▸\";float: left;margin-right: 0.25em;color: #696969;}#sk-container-id-2 label.sk-toggleable__label-arrow:hover:before {color: black;}#sk-container-id-2 div.sk-estimator:hover label.sk-toggleable__label-arrow:before {color: black;}#sk-container-id-2 div.sk-toggleable__content {max-height: 0;max-width: 0;overflow: hidden;text-align: left;background-color: #f0f8ff;}#sk-container-id-2 div.sk-toggleable__content pre {margin: 0.2em;color: black;border-radius: 0.25em;background-color: #f0f8ff;}#sk-container-id-2 input.sk-toggleable__control:checked~div.sk-toggleable__content {max-height: 200px;max-width: 100%;overflow: auto;}#sk-container-id-2 input.sk-toggleable__control:checked~label.sk-toggleable__label-arrow:before {content: \"▾\";}#sk-container-id-2 div.sk-estimator input.sk-toggleable__control:checked~label.sk-toggleable__label {background-color: #d4ebff;}#sk-container-id-2 div.sk-label input.sk-toggleable__control:checked~label.sk-toggleable__label {background-color: #d4ebff;}#sk-container-id-2 input.sk-hidden--visually {border: 0;clip: rect(1px 1px 1px 1px);clip: rect(1px, 1px, 1px, 1px);height: 1px;margin: -1px;overflow: hidden;padding: 0;position: absolute;width: 1px;}#sk-container-id-2 div.sk-estimator {font-family: monospace;background-color: #f0f8ff;border: 1px dotted black;border-radius: 0.25em;box-sizing: border-box;margin-bottom: 0.5em;}#sk-container-id-2 div.sk-estimator:hover {background-color: #d4ebff;}#sk-container-id-2 div.sk-parallel-item::after {content: \"\";width: 100%;border-bottom: 1px solid gray;flex-grow: 1;}#sk-container-id-2 div.sk-label:hover label.sk-toggleable__label {background-color: #d4ebff;}#sk-container-id-2 div.sk-serial::before {content: \"\";position: absolute;border-left: 1px solid gray;box-sizing: border-box;top: 0;bottom: 0;left: 50%;z-index: 0;}#sk-container-id-2 div.sk-serial {display: flex;flex-direction: column;align-items: center;background-color: white;padding-right: 0.2em;padding-left: 0.2em;position: relative;}#sk-container-id-2 div.sk-item {position: relative;z-index: 1;}#sk-container-id-2 div.sk-parallel {display: flex;align-items: stretch;justify-content: center;background-color: white;position: relative;}#sk-container-id-2 div.sk-item::before, #sk-container-id-2 div.sk-parallel-item::before {content: \"\";position: absolute;border-left: 1px solid gray;box-sizing: border-box;top: 0;bottom: 0;left: 50%;z-index: -1;}#sk-container-id-2 div.sk-parallel-item {display: flex;flex-direction: column;z-index: 1;position: relative;background-color: white;}#sk-container-id-2 div.sk-parallel-item:first-child::after {align-self: flex-end;width: 50%;}#sk-container-id-2 div.sk-parallel-item:last-child::after {align-self: flex-start;width: 50%;}#sk-container-id-2 div.sk-parallel-item:only-child::after {width: 0;}#sk-container-id-2 div.sk-dashed-wrapped {border: 1px dashed gray;margin: 0 0.4em 0.5em 0.4em;box-sizing: border-box;padding-bottom: 0.4em;background-color: white;}#sk-container-id-2 div.sk-label label {font-family: monospace;font-weight: bold;display: inline-block;line-height: 1.2em;}#sk-container-id-2 div.sk-label-container {text-align: center;}#sk-container-id-2 div.sk-container {/* jupyter's `normalize.less` sets `[hidden] { display: none; }` but bootstrap.min.css set `[hidden] { display: none !important; }` so we also need the `!important` here to be able to override the default hidden behavior on the sphinx rendered scikit-learn.org. See: https://github.com/scikit-learn/scikit-learn/issues/21755 */display: inline-block !important;position: relative;}#sk-container-id-2 div.sk-text-repr-fallback {display: none;}</style><div id=\"sk-container-id-2\" class=\"sk-top-container\"><div class=\"sk-text-repr-fallback\"><pre>GridSearchCV(estimator=SVR(),\n",
       "             param_grid={&#x27;C&#x27;: [0.1, 1, 10], &#x27;degree&#x27;: [2, 3, 4],\n",
       "                         &#x27;epsilon&#x27;: [0.1, 0.2, 0.5],\n",
       "                         &#x27;kernel&#x27;: [&#x27;linear&#x27;, &#x27;poly&#x27;, &#x27;rbf&#x27;]})</pre><b>In a Jupyter environment, please rerun this cell to show the HTML representation or trust the notebook. <br />On GitHub, the HTML representation is unable to render, please try loading this page with nbviewer.org.</b></div><div class=\"sk-container\" hidden><div class=\"sk-item sk-dashed-wrapped\"><div class=\"sk-label-container\"><div class=\"sk-label sk-toggleable\"><input class=\"sk-toggleable__control sk-hidden--visually\" id=\"sk-estimator-id-2\" type=\"checkbox\" ><label for=\"sk-estimator-id-2\" class=\"sk-toggleable__label sk-toggleable__label-arrow\">GridSearchCV</label><div class=\"sk-toggleable__content\"><pre>GridSearchCV(estimator=SVR(),\n",
       "             param_grid={&#x27;C&#x27;: [0.1, 1, 10], &#x27;degree&#x27;: [2, 3, 4],\n",
       "                         &#x27;epsilon&#x27;: [0.1, 0.2, 0.5],\n",
       "                         &#x27;kernel&#x27;: [&#x27;linear&#x27;, &#x27;poly&#x27;, &#x27;rbf&#x27;]})</pre></div></div></div><div class=\"sk-parallel\"><div class=\"sk-parallel-item\"><div class=\"sk-item\"><div class=\"sk-label-container\"><div class=\"sk-label sk-toggleable\"><input class=\"sk-toggleable__control sk-hidden--visually\" id=\"sk-estimator-id-3\" type=\"checkbox\" ><label for=\"sk-estimator-id-3\" class=\"sk-toggleable__label sk-toggleable__label-arrow\">estimator: SVR</label><div class=\"sk-toggleable__content\"><pre>SVR()</pre></div></div></div><div class=\"sk-serial\"><div class=\"sk-item\"><div class=\"sk-estimator sk-toggleable\"><input class=\"sk-toggleable__control sk-hidden--visually\" id=\"sk-estimator-id-4\" type=\"checkbox\" ><label for=\"sk-estimator-id-4\" class=\"sk-toggleable__label sk-toggleable__label-arrow\">SVR</label><div class=\"sk-toggleable__content\"><pre>SVR()</pre></div></div></div></div></div></div></div></div></div></div>"
      ],
      "text/plain": [
       "GridSearchCV(estimator=SVR(),\n",
       "             param_grid={'C': [0.1, 1, 10], 'degree': [2, 3, 4],\n",
       "                         'epsilon': [0.1, 0.2, 0.5],\n",
       "                         'kernel': ['linear', 'poly', 'rbf']})"
      ]
     },
     "execution_count": 37,
     "metadata": {},
     "output_type": "execute_result"
    }
   ],
   "source": [
    "gridsvr.fit(X_train, y_train.values.ravel())"
   ]
  },
  {
   "cell_type": "code",
   "execution_count": 38,
   "metadata": {},
   "outputs": [
    {
     "data": {
      "text/plain": [
       "{'C': 10, 'degree': 2, 'epsilon': 0.1, 'kernel': 'linear'}"
      ]
     },
     "execution_count": 38,
     "metadata": {},
     "output_type": "execute_result"
    }
   ],
   "source": [
    "gridsvr.best_params_"
   ]
  },
  {
   "cell_type": "code",
   "execution_count": 39,
   "metadata": {},
   "outputs": [],
   "source": [
    "predictionssvr = gridsvr.predict(X_test)"
   ]
  },
  {
   "cell_type": "code",
   "execution_count": 40,
   "metadata": {},
   "outputs": [
    {
     "name": "stdout",
     "output_type": "stream",
     "text": [
      "Mean absolute error on model is {} 16041.279145414699\n",
      "Root maen squared error on model is {} 18913.208876493583\n"
     ]
    }
   ],
   "source": [
    "results(predictionssvr)"
   ]
  },
  {
   "cell_type": "code",
   "execution_count": 41,
   "metadata": {},
   "outputs": [],
   "source": [
    "from sklearn.ensemble import RandomForestRegressor\n",
    "from sklearn.model_selection import GridSearchCV\n",
    "rfmodel = RandomForestRegressor()"
   ]
  },
  {
   "cell_type": "code",
   "execution_count": 42,
   "metadata": {},
   "outputs": [],
   "source": [
    "param_gridrfr = {\n",
    "    \"n_estimators\": [2, 3, 4, 5, 6],  # Use a list instead of a set\n",
    "    \"max_depth\": [5, 10, 15]\n",
    "}"
   ]
  },
  {
   "cell_type": "code",
   "execution_count": 43,
   "metadata": {},
   "outputs": [],
   "source": [
    "gridrfr = GridSearchCV(estimator=rfmodel, param_grid=param_gridrfr, cv=5)"
   ]
  },
  {
   "cell_type": "code",
   "execution_count": 44,
   "metadata": {},
   "outputs": [
    {
     "data": {
      "text/html": [
       "<style>#sk-container-id-3 {color: black;}#sk-container-id-3 pre{padding: 0;}#sk-container-id-3 div.sk-toggleable {background-color: white;}#sk-container-id-3 label.sk-toggleable__label {cursor: pointer;display: block;width: 100%;margin-bottom: 0;padding: 0.3em;box-sizing: border-box;text-align: center;}#sk-container-id-3 label.sk-toggleable__label-arrow:before {content: \"▸\";float: left;margin-right: 0.25em;color: #696969;}#sk-container-id-3 label.sk-toggleable__label-arrow:hover:before {color: black;}#sk-container-id-3 div.sk-estimator:hover label.sk-toggleable__label-arrow:before {color: black;}#sk-container-id-3 div.sk-toggleable__content {max-height: 0;max-width: 0;overflow: hidden;text-align: left;background-color: #f0f8ff;}#sk-container-id-3 div.sk-toggleable__content pre {margin: 0.2em;color: black;border-radius: 0.25em;background-color: #f0f8ff;}#sk-container-id-3 input.sk-toggleable__control:checked~div.sk-toggleable__content {max-height: 200px;max-width: 100%;overflow: auto;}#sk-container-id-3 input.sk-toggleable__control:checked~label.sk-toggleable__label-arrow:before {content: \"▾\";}#sk-container-id-3 div.sk-estimator input.sk-toggleable__control:checked~label.sk-toggleable__label {background-color: #d4ebff;}#sk-container-id-3 div.sk-label input.sk-toggleable__control:checked~label.sk-toggleable__label {background-color: #d4ebff;}#sk-container-id-3 input.sk-hidden--visually {border: 0;clip: rect(1px 1px 1px 1px);clip: rect(1px, 1px, 1px, 1px);height: 1px;margin: -1px;overflow: hidden;padding: 0;position: absolute;width: 1px;}#sk-container-id-3 div.sk-estimator {font-family: monospace;background-color: #f0f8ff;border: 1px dotted black;border-radius: 0.25em;box-sizing: border-box;margin-bottom: 0.5em;}#sk-container-id-3 div.sk-estimator:hover {background-color: #d4ebff;}#sk-container-id-3 div.sk-parallel-item::after {content: \"\";width: 100%;border-bottom: 1px solid gray;flex-grow: 1;}#sk-container-id-3 div.sk-label:hover label.sk-toggleable__label {background-color: #d4ebff;}#sk-container-id-3 div.sk-serial::before {content: \"\";position: absolute;border-left: 1px solid gray;box-sizing: border-box;top: 0;bottom: 0;left: 50%;z-index: 0;}#sk-container-id-3 div.sk-serial {display: flex;flex-direction: column;align-items: center;background-color: white;padding-right: 0.2em;padding-left: 0.2em;position: relative;}#sk-container-id-3 div.sk-item {position: relative;z-index: 1;}#sk-container-id-3 div.sk-parallel {display: flex;align-items: stretch;justify-content: center;background-color: white;position: relative;}#sk-container-id-3 div.sk-item::before, #sk-container-id-3 div.sk-parallel-item::before {content: \"\";position: absolute;border-left: 1px solid gray;box-sizing: border-box;top: 0;bottom: 0;left: 50%;z-index: -1;}#sk-container-id-3 div.sk-parallel-item {display: flex;flex-direction: column;z-index: 1;position: relative;background-color: white;}#sk-container-id-3 div.sk-parallel-item:first-child::after {align-self: flex-end;width: 50%;}#sk-container-id-3 div.sk-parallel-item:last-child::after {align-self: flex-start;width: 50%;}#sk-container-id-3 div.sk-parallel-item:only-child::after {width: 0;}#sk-container-id-3 div.sk-dashed-wrapped {border: 1px dashed gray;margin: 0 0.4em 0.5em 0.4em;box-sizing: border-box;padding-bottom: 0.4em;background-color: white;}#sk-container-id-3 div.sk-label label {font-family: monospace;font-weight: bold;display: inline-block;line-height: 1.2em;}#sk-container-id-3 div.sk-label-container {text-align: center;}#sk-container-id-3 div.sk-container {/* jupyter's `normalize.less` sets `[hidden] { display: none; }` but bootstrap.min.css set `[hidden] { display: none !important; }` so we also need the `!important` here to be able to override the default hidden behavior on the sphinx rendered scikit-learn.org. See: https://github.com/scikit-learn/scikit-learn/issues/21755 */display: inline-block !important;position: relative;}#sk-container-id-3 div.sk-text-repr-fallback {display: none;}</style><div id=\"sk-container-id-3\" class=\"sk-top-container\"><div class=\"sk-text-repr-fallback\"><pre>GridSearchCV(cv=5, estimator=RandomForestRegressor(),\n",
       "             param_grid={&#x27;max_depth&#x27;: [5, 10, 15],\n",
       "                         &#x27;n_estimators&#x27;: [2, 3, 4, 5, 6]})</pre><b>In a Jupyter environment, please rerun this cell to show the HTML representation or trust the notebook. <br />On GitHub, the HTML representation is unable to render, please try loading this page with nbviewer.org.</b></div><div class=\"sk-container\" hidden><div class=\"sk-item sk-dashed-wrapped\"><div class=\"sk-label-container\"><div class=\"sk-label sk-toggleable\"><input class=\"sk-toggleable__control sk-hidden--visually\" id=\"sk-estimator-id-5\" type=\"checkbox\" ><label for=\"sk-estimator-id-5\" class=\"sk-toggleable__label sk-toggleable__label-arrow\">GridSearchCV</label><div class=\"sk-toggleable__content\"><pre>GridSearchCV(cv=5, estimator=RandomForestRegressor(),\n",
       "             param_grid={&#x27;max_depth&#x27;: [5, 10, 15],\n",
       "                         &#x27;n_estimators&#x27;: [2, 3, 4, 5, 6]})</pre></div></div></div><div class=\"sk-parallel\"><div class=\"sk-parallel-item\"><div class=\"sk-item\"><div class=\"sk-label-container\"><div class=\"sk-label sk-toggleable\"><input class=\"sk-toggleable__control sk-hidden--visually\" id=\"sk-estimator-id-6\" type=\"checkbox\" ><label for=\"sk-estimator-id-6\" class=\"sk-toggleable__label sk-toggleable__label-arrow\">estimator: RandomForestRegressor</label><div class=\"sk-toggleable__content\"><pre>RandomForestRegressor()</pre></div></div></div><div class=\"sk-serial\"><div class=\"sk-item\"><div class=\"sk-estimator sk-toggleable\"><input class=\"sk-toggleable__control sk-hidden--visually\" id=\"sk-estimator-id-7\" type=\"checkbox\" ><label for=\"sk-estimator-id-7\" class=\"sk-toggleable__label sk-toggleable__label-arrow\">RandomForestRegressor</label><div class=\"sk-toggleable__content\"><pre>RandomForestRegressor()</pre></div></div></div></div></div></div></div></div></div></div>"
      ],
      "text/plain": [
       "GridSearchCV(cv=5, estimator=RandomForestRegressor(),\n",
       "             param_grid={'max_depth': [5, 10, 15],\n",
       "                         'n_estimators': [2, 3, 4, 5, 6]})"
      ]
     },
     "execution_count": 44,
     "metadata": {},
     "output_type": "execute_result"
    }
   ],
   "source": [
    "gridrfr.fit(X_train, y_train.values.ravel())"
   ]
  },
  {
   "cell_type": "code",
   "execution_count": 45,
   "metadata": {},
   "outputs": [
    {
     "data": {
      "text/plain": [
       "{'max_depth': 5, 'n_estimators': 5}"
      ]
     },
     "execution_count": 45,
     "metadata": {},
     "output_type": "execute_result"
    }
   ],
   "source": [
    "gridrfr.best_params_"
   ]
  },
  {
   "cell_type": "code",
   "execution_count": 46,
   "metadata": {},
   "outputs": [],
   "source": [
    "predictionofrfr = gridrfr.predict(X_test)"
   ]
  },
  {
   "cell_type": "code",
   "execution_count": 47,
   "metadata": {},
   "outputs": [
    {
     "name": "stdout",
     "output_type": "stream",
     "text": [
      "Mean absolute error on model is {} 16789.210529178217\n",
      "Root maen squared error on model is {} 19782.271135244304\n"
     ]
    }
   ],
   "source": [
    "results(predictionofrfr)"
   ]
  },
  {
   "cell_type": "code",
   "execution_count": 48,
   "metadata": {},
   "outputs": [
    {
     "data": {
      "text/html": [
       "<style>#sk-container-id-4 {color: black;}#sk-container-id-4 pre{padding: 0;}#sk-container-id-4 div.sk-toggleable {background-color: white;}#sk-container-id-4 label.sk-toggleable__label {cursor: pointer;display: block;width: 100%;margin-bottom: 0;padding: 0.3em;box-sizing: border-box;text-align: center;}#sk-container-id-4 label.sk-toggleable__label-arrow:before {content: \"▸\";float: left;margin-right: 0.25em;color: #696969;}#sk-container-id-4 label.sk-toggleable__label-arrow:hover:before {color: black;}#sk-container-id-4 div.sk-estimator:hover label.sk-toggleable__label-arrow:before {color: black;}#sk-container-id-4 div.sk-toggleable__content {max-height: 0;max-width: 0;overflow: hidden;text-align: left;background-color: #f0f8ff;}#sk-container-id-4 div.sk-toggleable__content pre {margin: 0.2em;color: black;border-radius: 0.25em;background-color: #f0f8ff;}#sk-container-id-4 input.sk-toggleable__control:checked~div.sk-toggleable__content {max-height: 200px;max-width: 100%;overflow: auto;}#sk-container-id-4 input.sk-toggleable__control:checked~label.sk-toggleable__label-arrow:before {content: \"▾\";}#sk-container-id-4 div.sk-estimator input.sk-toggleable__control:checked~label.sk-toggleable__label {background-color: #d4ebff;}#sk-container-id-4 div.sk-label input.sk-toggleable__control:checked~label.sk-toggleable__label {background-color: #d4ebff;}#sk-container-id-4 input.sk-hidden--visually {border: 0;clip: rect(1px 1px 1px 1px);clip: rect(1px, 1px, 1px, 1px);height: 1px;margin: -1px;overflow: hidden;padding: 0;position: absolute;width: 1px;}#sk-container-id-4 div.sk-estimator {font-family: monospace;background-color: #f0f8ff;border: 1px dotted black;border-radius: 0.25em;box-sizing: border-box;margin-bottom: 0.5em;}#sk-container-id-4 div.sk-estimator:hover {background-color: #d4ebff;}#sk-container-id-4 div.sk-parallel-item::after {content: \"\";width: 100%;border-bottom: 1px solid gray;flex-grow: 1;}#sk-container-id-4 div.sk-label:hover label.sk-toggleable__label {background-color: #d4ebff;}#sk-container-id-4 div.sk-serial::before {content: \"\";position: absolute;border-left: 1px solid gray;box-sizing: border-box;top: 0;bottom: 0;left: 50%;z-index: 0;}#sk-container-id-4 div.sk-serial {display: flex;flex-direction: column;align-items: center;background-color: white;padding-right: 0.2em;padding-left: 0.2em;position: relative;}#sk-container-id-4 div.sk-item {position: relative;z-index: 1;}#sk-container-id-4 div.sk-parallel {display: flex;align-items: stretch;justify-content: center;background-color: white;position: relative;}#sk-container-id-4 div.sk-item::before, #sk-container-id-4 div.sk-parallel-item::before {content: \"\";position: absolute;border-left: 1px solid gray;box-sizing: border-box;top: 0;bottom: 0;left: 50%;z-index: -1;}#sk-container-id-4 div.sk-parallel-item {display: flex;flex-direction: column;z-index: 1;position: relative;background-color: white;}#sk-container-id-4 div.sk-parallel-item:first-child::after {align-self: flex-end;width: 50%;}#sk-container-id-4 div.sk-parallel-item:last-child::after {align-self: flex-start;width: 50%;}#sk-container-id-4 div.sk-parallel-item:only-child::after {width: 0;}#sk-container-id-4 div.sk-dashed-wrapped {border: 1px dashed gray;margin: 0 0.4em 0.5em 0.4em;box-sizing: border-box;padding-bottom: 0.4em;background-color: white;}#sk-container-id-4 div.sk-label label {font-family: monospace;font-weight: bold;display: inline-block;line-height: 1.2em;}#sk-container-id-4 div.sk-label-container {text-align: center;}#sk-container-id-4 div.sk-container {/* jupyter's `normalize.less` sets `[hidden] { display: none; }` but bootstrap.min.css set `[hidden] { display: none !important; }` so we also need the `!important` here to be able to override the default hidden behavior on the sphinx rendered scikit-learn.org. See: https://github.com/scikit-learn/scikit-learn/issues/21755 */display: inline-block !important;position: relative;}#sk-container-id-4 div.sk-text-repr-fallback {display: none;}</style><div id=\"sk-container-id-4\" class=\"sk-top-container\"><div class=\"sk-text-repr-fallback\"><pre>LinearRegression()</pre><b>In a Jupyter environment, please rerun this cell to show the HTML representation or trust the notebook. <br />On GitHub, the HTML representation is unable to render, please try loading this page with nbviewer.org.</b></div><div class=\"sk-container\" hidden><div class=\"sk-item\"><div class=\"sk-estimator sk-toggleable\"><input class=\"sk-toggleable__control sk-hidden--visually\" id=\"sk-estimator-id-8\" type=\"checkbox\" checked><label for=\"sk-estimator-id-8\" class=\"sk-toggleable__label sk-toggleable__label-arrow\">LinearRegression</label><div class=\"sk-toggleable__content\"><pre>LinearRegression()</pre></div></div></div></div></div>"
      ],
      "text/plain": [
       "LinearRegression()"
      ]
     },
     "execution_count": 48,
     "metadata": {},
     "output_type": "execute_result"
    }
   ],
   "source": [
    "lr"
   ]
  },
  {
   "cell_type": "code",
   "execution_count": 49,
   "metadata": {},
   "outputs": [
    {
     "data": {
      "text/plain": [
       "['model.pkl']"
      ]
     },
     "execution_count": 49,
     "metadata": {},
     "output_type": "execute_result"
    }
   ],
   "source": [
    "joblib.dump(lr, \"model.pkl\")"
   ]
  },
  {
   "cell_type": "code",
   "execution_count": 50,
   "metadata": {},
   "outputs": [
    {
     "data": {
      "text/plain": [
       "Index(['Years_at_Company', 'Satisfaction_Level', 'Average_Monthly_Hours'], dtype='object')"
      ]
     },
     "execution_count": 50,
     "metadata": {},
     "output_type": "execute_result"
    }
   ],
   "source": [
    "X.columns"
   ]
  },
  {
   "cell_type": "code",
   "execution_count": null,
   "metadata": {},
   "outputs": [],
   "source": []
  }
 ],
 "metadata": {
  "kernelspec": {
   "display_name": "Python 3",
   "language": "python",
   "name": "python3"
  },
  "language_info": {
   "codemirror_mode": {
    "name": "ipython",
    "version": 3
   },
   "file_extension": ".py",
   "mimetype": "text/x-python",
   "name": "python",
   "nbconvert_exporter": "python",
   "pygments_lexer": "ipython3",
   "version": "3.9.0"
  }
 },
 "nbformat": 4,
 "nbformat_minor": 2
}
